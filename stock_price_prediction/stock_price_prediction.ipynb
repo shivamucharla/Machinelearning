{
 "cells": [
  {
   "cell_type": "markdown",
   "id": "ffb96b88",
   "metadata": {},
   "source": [
    "# stock price prediction  and forecasting "
   ]
  },
  {
   "cell_type": "markdown",
   "id": "1eb4ebd3",
   "metadata": {},
   "source": [
    "## 1. collecting the data from APPLE\n",
    "## 2. preprocessing the data - train and test\n",
    "## 3. creating the stacked LSTM model\n",
    "## 4. predicting the test data and plotting the output\n",
    "## 5. forecasting for next 30 days and plotting the output"
   ]
  },
  {
   "cell_type": "code",
   "execution_count": 1,
   "id": "01471f13",
   "metadata": {},
   "outputs": [
    {
     "name": "stdout",
     "output_type": "stream",
     "text": [
      "Requirement already satisfied: pandas-datareader in ./anaconda3/lib/python3.11/site-packages (0.10.0)\r\n",
      "Requirement already satisfied: lxml in ./anaconda3/lib/python3.11/site-packages (from pandas-datareader) (4.9.2)\r\n",
      "Requirement already satisfied: pandas>=0.23 in ./anaconda3/lib/python3.11/site-packages (from pandas-datareader) (1.5.3)\r\n",
      "Requirement already satisfied: requests>=2.19.0 in ./anaconda3/lib/python3.11/site-packages (from pandas-datareader) (2.31.0)\r\n",
      "Requirement already satisfied: python-dateutil>=2.8.1 in ./anaconda3/lib/python3.11/site-packages (from pandas>=0.23->pandas-datareader) (2.8.2)\r\n",
      "Requirement already satisfied: pytz>=2020.1 in ./anaconda3/lib/python3.11/site-packages (from pandas>=0.23->pandas-datareader) (2022.7)\r\n",
      "Requirement already satisfied: numpy>=1.21.0 in ./anaconda3/lib/python3.11/site-packages (from pandas>=0.23->pandas-datareader) (1.24.3)\r\n",
      "Requirement already satisfied: charset-normalizer<4,>=2 in ./anaconda3/lib/python3.11/site-packages (from requests>=2.19.0->pandas-datareader) (2.0.4)\r\n",
      "Requirement already satisfied: idna<4,>=2.5 in ./anaconda3/lib/python3.11/site-packages (from requests>=2.19.0->pandas-datareader) (3.4)\r\n",
      "Requirement already satisfied: urllib3<3,>=1.21.1 in ./anaconda3/lib/python3.11/site-packages (from requests>=2.19.0->pandas-datareader) (1.26.16)\r\n",
      "Requirement already satisfied: certifi>=2017.4.17 in ./anaconda3/lib/python3.11/site-packages (from requests>=2.19.0->pandas-datareader) (2023.7.22)\r\n",
      "Requirement already satisfied: six>=1.5 in ./anaconda3/lib/python3.11/site-packages (from python-dateutil>=2.8.1->pandas>=0.23->pandas-datareader) (1.16.0)\r\n"
     ]
    }
   ],
   "source": [
    "!pip install pandas-datareader\n",
    "\n"
   ]
  },
  {
   "cell_type": "code",
   "execution_count": 2,
   "id": "90d097b9",
   "metadata": {},
   "outputs": [],
   "source": [
    "import pandas_datareader as pdr"
   ]
  },
  {
   "cell_type": "code",
   "execution_count": 3,
   "id": "6fd0160f",
   "metadata": {},
   "outputs": [
    {
     "name": "stderr",
     "output_type": "stream",
     "text": [
      "/var/folders/tr/v69rrvdd54sglfkjf3yp5l7c0000gn/T/ipykernel_30140/4201774889.py:1: FutureWarning: In a future version of pandas all arguments of concat except for the argument 'objs' will be keyword-only.\n",
      "  df = pdr.get_data_tiingo('AAPL', api_key = '66bc11c42ffabc5e084f23ef2d74256f9d33a226')\n"
     ]
    }
   ],
   "source": [
    "df = pdr.get_data_tiingo('AAPL', api_key = '66bc11c42ffabc5e084f23ef2d74256f9d33a226')"
   ]
  },
  {
   "cell_type": "code",
   "execution_count": 4,
   "id": "c8e7bee1",
   "metadata": {},
   "outputs": [
    {
     "data": {
      "text/html": [
       "<div>\n",
       "<style scoped>\n",
       "    .dataframe tbody tr th:only-of-type {\n",
       "        vertical-align: middle;\n",
       "    }\n",
       "\n",
       "    .dataframe tbody tr th {\n",
       "        vertical-align: top;\n",
       "    }\n",
       "\n",
       "    .dataframe thead th {\n",
       "        text-align: right;\n",
       "    }\n",
       "</style>\n",
       "<table border=\"1\" class=\"dataframe\">\n",
       "  <thead>\n",
       "    <tr style=\"text-align: right;\">\n",
       "      <th></th>\n",
       "      <th></th>\n",
       "      <th>close</th>\n",
       "      <th>high</th>\n",
       "      <th>low</th>\n",
       "      <th>open</th>\n",
       "      <th>volume</th>\n",
       "      <th>adjClose</th>\n",
       "      <th>adjHigh</th>\n",
       "      <th>adjLow</th>\n",
       "      <th>adjOpen</th>\n",
       "      <th>adjVolume</th>\n",
       "      <th>divCash</th>\n",
       "      <th>splitFactor</th>\n",
       "    </tr>\n",
       "    <tr>\n",
       "      <th>symbol</th>\n",
       "      <th>date</th>\n",
       "      <th></th>\n",
       "      <th></th>\n",
       "      <th></th>\n",
       "      <th></th>\n",
       "      <th></th>\n",
       "      <th></th>\n",
       "      <th></th>\n",
       "      <th></th>\n",
       "      <th></th>\n",
       "      <th></th>\n",
       "      <th></th>\n",
       "      <th></th>\n",
       "    </tr>\n",
       "  </thead>\n",
       "  <tbody>\n",
       "    <tr>\n",
       "      <th rowspan=\"5\" valign=\"top\">AAPL</th>\n",
       "      <th>2019-10-01 00:00:00+00:00</th>\n",
       "      <td>224.59</td>\n",
       "      <td>228.22</td>\n",
       "      <td>224.20</td>\n",
       "      <td>225.07</td>\n",
       "      <td>36187163</td>\n",
       "      <td>54.333669</td>\n",
       "      <td>55.211852</td>\n",
       "      <td>54.239318</td>\n",
       "      <td>54.449792</td>\n",
       "      <td>144748652</td>\n",
       "      <td>0.0</td>\n",
       "      <td>1.0</td>\n",
       "    </tr>\n",
       "    <tr>\n",
       "      <th>2019-10-02 00:00:00+00:00</th>\n",
       "      <td>218.96</td>\n",
       "      <td>223.58</td>\n",
       "      <td>217.93</td>\n",
       "      <td>223.06</td>\n",
       "      <td>35767257</td>\n",
       "      <td>52.971638</td>\n",
       "      <td>54.089326</td>\n",
       "      <td>52.722456</td>\n",
       "      <td>53.963525</td>\n",
       "      <td>143069028</td>\n",
       "      <td>0.0</td>\n",
       "      <td>1.0</td>\n",
       "    </tr>\n",
       "    <tr>\n",
       "      <th>2019-10-03 00:00:00+00:00</th>\n",
       "      <td>220.82</td>\n",
       "      <td>220.96</td>\n",
       "      <td>215.13</td>\n",
       "      <td>218.43</td>\n",
       "      <td>30352686</td>\n",
       "      <td>53.421616</td>\n",
       "      <td>53.455485</td>\n",
       "      <td>52.045069</td>\n",
       "      <td>52.843418</td>\n",
       "      <td>121410744</td>\n",
       "      <td>0.0</td>\n",
       "      <td>1.0</td>\n",
       "    </tr>\n",
       "    <tr>\n",
       "      <th>2019-10-04 00:00:00+00:00</th>\n",
       "      <td>227.01</td>\n",
       "      <td>227.49</td>\n",
       "      <td>223.89</td>\n",
       "      <td>225.64</td>\n",
       "      <td>34755553</td>\n",
       "      <td>54.919124</td>\n",
       "      <td>55.035248</td>\n",
       "      <td>54.164322</td>\n",
       "      <td>54.587689</td>\n",
       "      <td>139022212</td>\n",
       "      <td>0.0</td>\n",
       "      <td>1.0</td>\n",
       "    </tr>\n",
       "    <tr>\n",
       "      <th>2019-10-07 00:00:00+00:00</th>\n",
       "      <td>227.06</td>\n",
       "      <td>229.93</td>\n",
       "      <td>225.84</td>\n",
       "      <td>226.27</td>\n",
       "      <td>30889269</td>\n",
       "      <td>54.931221</td>\n",
       "      <td>55.625542</td>\n",
       "      <td>54.636074</td>\n",
       "      <td>54.740101</td>\n",
       "      <td>123557076</td>\n",
       "      <td>0.0</td>\n",
       "      <td>1.0</td>\n",
       "    </tr>\n",
       "  </tbody>\n",
       "</table>\n",
       "</div>"
      ],
      "text/plain": [
       "                                   close    high     low    open    volume  \\\n",
       "symbol date                                                                  \n",
       "AAPL   2019-10-01 00:00:00+00:00  224.59  228.22  224.20  225.07  36187163   \n",
       "       2019-10-02 00:00:00+00:00  218.96  223.58  217.93  223.06  35767257   \n",
       "       2019-10-03 00:00:00+00:00  220.82  220.96  215.13  218.43  30352686   \n",
       "       2019-10-04 00:00:00+00:00  227.01  227.49  223.89  225.64  34755553   \n",
       "       2019-10-07 00:00:00+00:00  227.06  229.93  225.84  226.27  30889269   \n",
       "\n",
       "                                   adjClose    adjHigh     adjLow    adjOpen  \\\n",
       "symbol date                                                                    \n",
       "AAPL   2019-10-01 00:00:00+00:00  54.333669  55.211852  54.239318  54.449792   \n",
       "       2019-10-02 00:00:00+00:00  52.971638  54.089326  52.722456  53.963525   \n",
       "       2019-10-03 00:00:00+00:00  53.421616  53.455485  52.045069  52.843418   \n",
       "       2019-10-04 00:00:00+00:00  54.919124  55.035248  54.164322  54.587689   \n",
       "       2019-10-07 00:00:00+00:00  54.931221  55.625542  54.636074  54.740101   \n",
       "\n",
       "                                  adjVolume  divCash  splitFactor  \n",
       "symbol date                                                        \n",
       "AAPL   2019-10-01 00:00:00+00:00  144748652      0.0          1.0  \n",
       "       2019-10-02 00:00:00+00:00  143069028      0.0          1.0  \n",
       "       2019-10-03 00:00:00+00:00  121410744      0.0          1.0  \n",
       "       2019-10-04 00:00:00+00:00  139022212      0.0          1.0  \n",
       "       2019-10-07 00:00:00+00:00  123557076      0.0          1.0  "
      ]
     },
     "execution_count": 4,
     "metadata": {},
     "output_type": "execute_result"
    }
   ],
   "source": [
    "df.head()"
   ]
  },
  {
   "cell_type": "code",
   "execution_count": 5,
   "id": "ed72177e",
   "metadata": {},
   "outputs": [],
   "source": [
    "df.to_csv('AAPL.csv')"
   ]
  },
  {
   "cell_type": "code",
   "execution_count": 6,
   "id": "c1c88a2b",
   "metadata": {},
   "outputs": [],
   "source": [
    "import pandas as pd"
   ]
  },
  {
   "cell_type": "code",
   "execution_count": 7,
   "id": "83f94cfb",
   "metadata": {},
   "outputs": [],
   "source": [
    "df = pd.read_csv('/Users/shivakumargoudmucharla/AAPL.csv')"
   ]
  },
  {
   "cell_type": "code",
   "execution_count": 8,
   "id": "29897688",
   "metadata": {},
   "outputs": [
    {
     "data": {
      "text/html": [
       "<div>\n",
       "<style scoped>\n",
       "    .dataframe tbody tr th:only-of-type {\n",
       "        vertical-align: middle;\n",
       "    }\n",
       "\n",
       "    .dataframe tbody tr th {\n",
       "        vertical-align: top;\n",
       "    }\n",
       "\n",
       "    .dataframe thead th {\n",
       "        text-align: right;\n",
       "    }\n",
       "</style>\n",
       "<table border=\"1\" class=\"dataframe\">\n",
       "  <thead>\n",
       "    <tr style=\"text-align: right;\">\n",
       "      <th></th>\n",
       "      <th>symbol</th>\n",
       "      <th>date</th>\n",
       "      <th>close</th>\n",
       "      <th>high</th>\n",
       "      <th>low</th>\n",
       "      <th>open</th>\n",
       "      <th>volume</th>\n",
       "      <th>adjClose</th>\n",
       "      <th>adjHigh</th>\n",
       "      <th>adjLow</th>\n",
       "      <th>adjOpen</th>\n",
       "      <th>adjVolume</th>\n",
       "      <th>divCash</th>\n",
       "      <th>splitFactor</th>\n",
       "    </tr>\n",
       "  </thead>\n",
       "  <tbody>\n",
       "    <tr>\n",
       "      <th>0</th>\n",
       "      <td>AAPL</td>\n",
       "      <td>2019-10-01 00:00:00+00:00</td>\n",
       "      <td>224.59</td>\n",
       "      <td>228.22</td>\n",
       "      <td>224.20</td>\n",
       "      <td>225.07</td>\n",
       "      <td>36187163</td>\n",
       "      <td>54.333669</td>\n",
       "      <td>55.211852</td>\n",
       "      <td>54.239318</td>\n",
       "      <td>54.449792</td>\n",
       "      <td>144748652</td>\n",
       "      <td>0.0</td>\n",
       "      <td>1.0</td>\n",
       "    </tr>\n",
       "    <tr>\n",
       "      <th>1</th>\n",
       "      <td>AAPL</td>\n",
       "      <td>2019-10-02 00:00:00+00:00</td>\n",
       "      <td>218.96</td>\n",
       "      <td>223.58</td>\n",
       "      <td>217.93</td>\n",
       "      <td>223.06</td>\n",
       "      <td>35767257</td>\n",
       "      <td>52.971638</td>\n",
       "      <td>54.089326</td>\n",
       "      <td>52.722456</td>\n",
       "      <td>53.963525</td>\n",
       "      <td>143069028</td>\n",
       "      <td>0.0</td>\n",
       "      <td>1.0</td>\n",
       "    </tr>\n",
       "    <tr>\n",
       "      <th>2</th>\n",
       "      <td>AAPL</td>\n",
       "      <td>2019-10-03 00:00:00+00:00</td>\n",
       "      <td>220.82</td>\n",
       "      <td>220.96</td>\n",
       "      <td>215.13</td>\n",
       "      <td>218.43</td>\n",
       "      <td>30352686</td>\n",
       "      <td>53.421616</td>\n",
       "      <td>53.455485</td>\n",
       "      <td>52.045069</td>\n",
       "      <td>52.843418</td>\n",
       "      <td>121410744</td>\n",
       "      <td>0.0</td>\n",
       "      <td>1.0</td>\n",
       "    </tr>\n",
       "    <tr>\n",
       "      <th>3</th>\n",
       "      <td>AAPL</td>\n",
       "      <td>2019-10-04 00:00:00+00:00</td>\n",
       "      <td>227.01</td>\n",
       "      <td>227.49</td>\n",
       "      <td>223.89</td>\n",
       "      <td>225.64</td>\n",
       "      <td>34755553</td>\n",
       "      <td>54.919124</td>\n",
       "      <td>55.035248</td>\n",
       "      <td>54.164322</td>\n",
       "      <td>54.587689</td>\n",
       "      <td>139022212</td>\n",
       "      <td>0.0</td>\n",
       "      <td>1.0</td>\n",
       "    </tr>\n",
       "    <tr>\n",
       "      <th>4</th>\n",
       "      <td>AAPL</td>\n",
       "      <td>2019-10-07 00:00:00+00:00</td>\n",
       "      <td>227.06</td>\n",
       "      <td>229.93</td>\n",
       "      <td>225.84</td>\n",
       "      <td>226.27</td>\n",
       "      <td>30889269</td>\n",
       "      <td>54.931221</td>\n",
       "      <td>55.625542</td>\n",
       "      <td>54.636074</td>\n",
       "      <td>54.740101</td>\n",
       "      <td>123557076</td>\n",
       "      <td>0.0</td>\n",
       "      <td>1.0</td>\n",
       "    </tr>\n",
       "  </tbody>\n",
       "</table>\n",
       "</div>"
      ],
      "text/plain": [
       "  symbol                       date   close    high     low    open    volume  \\\n",
       "0   AAPL  2019-10-01 00:00:00+00:00  224.59  228.22  224.20  225.07  36187163   \n",
       "1   AAPL  2019-10-02 00:00:00+00:00  218.96  223.58  217.93  223.06  35767257   \n",
       "2   AAPL  2019-10-03 00:00:00+00:00  220.82  220.96  215.13  218.43  30352686   \n",
       "3   AAPL  2019-10-04 00:00:00+00:00  227.01  227.49  223.89  225.64  34755553   \n",
       "4   AAPL  2019-10-07 00:00:00+00:00  227.06  229.93  225.84  226.27  30889269   \n",
       "\n",
       "    adjClose    adjHigh     adjLow    adjOpen  adjVolume  divCash  splitFactor  \n",
       "0  54.333669  55.211852  54.239318  54.449792  144748652      0.0          1.0  \n",
       "1  52.971638  54.089326  52.722456  53.963525  143069028      0.0          1.0  \n",
       "2  53.421616  53.455485  52.045069  52.843418  121410744      0.0          1.0  \n",
       "3  54.919124  55.035248  54.164322  54.587689  139022212      0.0          1.0  \n",
       "4  54.931221  55.625542  54.636074  54.740101  123557076      0.0          1.0  "
      ]
     },
     "execution_count": 8,
     "metadata": {},
     "output_type": "execute_result"
    }
   ],
   "source": [
    "df.head()"
   ]
  },
  {
   "cell_type": "code",
   "execution_count": 9,
   "id": "2e11e900",
   "metadata": {},
   "outputs": [],
   "source": [
    "df1 = df.reset_index()['close']"
   ]
  },
  {
   "cell_type": "code",
   "execution_count": 10,
   "id": "7195012a",
   "metadata": {},
   "outputs": [
    {
     "data": {
      "text/plain": [
       "(1257,)"
      ]
     },
     "execution_count": 10,
     "metadata": {},
     "output_type": "execute_result"
    }
   ],
   "source": [
    "df1.shape"
   ]
  },
  {
   "cell_type": "code",
   "execution_count": 11,
   "id": "95cc7d85",
   "metadata": {},
   "outputs": [],
   "source": [
    "import matplotlib.pyplot as plt"
   ]
  },
  {
   "cell_type": "code",
   "execution_count": 12,
   "id": "9f8b0d9a",
   "metadata": {},
   "outputs": [
    {
     "data": {
      "text/plain": [
       "[<matplotlib.lines.Line2D at 0x12a3adb50>]"
      ]
     },
     "execution_count": 12,
     "metadata": {},
     "output_type": "execute_result"
    },
    {
     "data": {
      "image/png": "[encoded data removed]",
      "text/plain": [
       "<Figure size 640x480 with 1 Axes>"
      ]
     },
     "metadata": {},
     "output_type": "display_data"
    }
   ],
   "source": [
    "plt.plot(df1)"
   ]
  },
  {
   "cell_type": "code",
   "execution_count": 13,
   "id": "53fc6ff3",
   "metadata": {},
   "outputs": [],
   "source": [
    "## LSTM is very sensitive so applying the MinMax scalar"
   ]
  },
  {
   "cell_type": "code",
   "execution_count": 14,
   "id": "5a921602",
   "metadata": {},
   "outputs": [],
   "source": [
    "import numpy as np"
   ]
  },
  {
   "cell_type": "code",
   "execution_count": 15,
   "id": "8ee3f3ac",
   "metadata": {},
   "outputs": [],
   "source": [
    "from sklearn.preprocessing import MinMaxScaler\n",
    "scaler = MinMaxScaler(feature_range=(0, 1))\n",
    "df1 = scaler.fit_transform(np.array(df1).reshape(-1, 1))\n"
   ]
  },
  {
   "cell_type": "code",
   "execution_count": 16,
   "id": "69b727ec",
   "metadata": {},
   "outputs": [
    {
     "data": {
      "text/plain": [
       "(1257, 1)"
      ]
     },
     "execution_count": 16,
     "metadata": {},
     "output_type": "execute_result"
    }
   ],
   "source": [
    "df1.shape"
   ]
  },
  {
   "cell_type": "code",
   "execution_count": 17,
   "id": "42a783e2",
   "metadata": {},
   "outputs": [
    {
     "data": {
      "text/plain": [
       "array([[0.29492799],\n",
       "       [0.28082655],\n",
       "       [0.28548528],\n",
       "       ...,\n",
       "       [0.29938635],\n",
       "       [0.30226675],\n",
       "       [0.30294302]])"
      ]
     },
     "execution_count": 17,
     "metadata": {},
     "output_type": "execute_result"
    }
   ],
   "source": [
    "df1"
   ]
  },
  {
   "cell_type": "code",
   "execution_count": 18,
   "id": "f171cbcb",
   "metadata": {},
   "outputs": [],
   "source": [
    "# splitting the data into training and testing\n",
    "training_size = int(len(df1)*0.65)\n",
    "testing_size = len(df1) - training_size\n",
    "train_data,test_data = df1[0:training_size,:],df1[training_size:len(df1),:1]"
   ]
  },
  {
   "cell_type": "code",
   "execution_count": 19,
   "id": "3d86ca6b",
   "metadata": {},
   "outputs": [
    {
     "data": {
      "text/plain": [
       "(817, 440)"
      ]
     },
     "execution_count": 19,
     "metadata": {},
     "output_type": "execute_result"
    }
   ],
   "source": [
    "training_size, testing_size"
   ]
  },
  {
   "cell_type": "code",
   "execution_count": 20,
   "id": "83c5d82a",
   "metadata": {},
   "outputs": [],
   "source": [
    "import numpy\n",
    "def create_dataset(dataset , time_step = 1):\n",
    "    dataX, dataY = [],[]\n",
    "    for i in range(len(dataset)-time_step-1):\n",
    "        a = dataset[i:(i+time_step),0]\n",
    "        dataX.append(a)\n",
    "        dataY.append(dataset[i + time_step, 0])\n",
    "    return numpy.array(dataX), numpy.array(dataY)    "
   ]
  },
  {
   "cell_type": "code",
   "execution_count": 21,
   "id": "bca642ac",
   "metadata": {},
   "outputs": [],
   "source": [
    "time_step = 100\n",
    "x_train,y_train = create_dataset(train_data,time_step)\n",
    "x_test, y_test = create_dataset(test_data,time_step)"
   ]
  },
  {
   "cell_type": "code",
   "execution_count": 22,
   "id": "322720d1",
   "metadata": {},
   "outputs": [
    {
     "name": "stdout",
     "output_type": "stream",
     "text": [
      "(716, 100)\n",
      "(716,)\n"
     ]
    }
   ],
   "source": [
    "print(x_train.shape)\n",
    "print(y_train.shape)"
   ]
  },
  {
   "cell_type": "code",
   "execution_count": 23,
   "id": "65c82745",
   "metadata": {},
   "outputs": [
    {
     "name": "stdout",
     "output_type": "stream",
     "text": [
      "(339, 100)\n",
      "(339,)\n"
     ]
    }
   ],
   "source": [
    "print(x_test.shape)\n",
    "print(y_test.shape)"
   ]
  },
  {
   "cell_type": "code",
   "execution_count": 25,
   "id": "3b3ca079",
   "metadata": {},
   "outputs": [],
   "source": [
    "x_train = x_train.reshape(x_train.shape[0], x_train.shape[1], 1)\n",
    "x_test = x_test.reshape(x_test.shape[0], x_test.shape[1], 1)\n"
   ]
  },
  {
   "cell_type": "code",
   "execution_count": 26,
   "id": "b685f0e8",
   "metadata": {},
   "outputs": [
    {
     "name": "stdout",
     "output_type": "stream",
     "text": [
      "(716, 100, 1)\n",
      "(716,)\n"
     ]
    }
   ],
   "source": [
    "print(x_train.shape)\n",
    "print(y_train.shape)"
   ]
  },
  {
   "cell_type": "code",
   "execution_count": 27,
   "id": "b5c41a06",
   "metadata": {},
   "outputs": [],
   "source": [
    "from tensorflow.keras.models import Sequential\n",
    "from tensorflow.keras.layers import Dense\n",
    "from tensorflow.keras.layers import LSTM"
   ]
  },
  {
   "cell_type": "code",
   "execution_count": 28,
   "id": "a8a5bd44",
   "metadata": {},
   "outputs": [
    {
     "name": "stderr",
     "output_type": "stream",
     "text": [
      "/Users/shivakumargoudmucharla/anaconda3/lib/python3.11/site-packages/keras/src/layers/rnn/rnn.py:204: UserWarning: Do not pass an `input_shape`/`input_dim` argument to a layer. When using Sequential models, prefer using an `Input(shape)` object as the first layer in the model instead.\n",
      "  super().__init__(**kwargs)\n"
     ]
    }
   ],
   "source": [
    "model = Sequential()\n",
    "model.add(LSTM(50,return_sequences= True, input_shape = (100,1)))\n",
    "model.add(LSTM(50,return_sequences= True))\n",
    "model.add(LSTM(50))\n",
    "model.add(Dense(1))\n",
    "model.compile(loss = 'mean_squared_error',optimizer = 'adam')        "
   ]
  },
  {
   "cell_type": "code",
   "execution_count": 29,
   "id": "585288b2",
   "metadata": {},
   "outputs": [
    {
     "data": {
      "text/html": [
       "<pre style=\"white-space:pre;overflow-x:auto;line-height:normal;font-family:Menlo,'DejaVu Sans Mono',consolas,'Courier New',monospace\"><span style=\"font-weight: bold\">Model: \"sequential\"</span>\n",
       "</pre>\n"
      ],
      "text/plain": [
       "\u001b[1mModel: \"sequential\"\u001b[0m\n"
      ]
     },
     "metadata": {},
     "output_type": "display_data"
    },
    {
     "data": {
      "text/html": [
       "<pre style=\"white-space:pre;overflow-x:auto;line-height:normal;font-family:Menlo,'DejaVu Sans Mono',consolas,'Courier New',monospace\">┏━━━━━━━━━━━━━━━━━━━━━━━━━━━━━━━━━┳━━━━━━━━━━━━━━━━━━━━━━━━┳━━━━━━━━━━━━━━━┓\n",
       "┃<span style=\"font-weight: bold\"> Layer (type)                    </span>┃<span style=\"font-weight: bold\"> Output Shape           </span>┃<span style=\"font-weight: bold\">       Param # </span>┃\n",
       "┡━━━━━━━━━━━━━━━━━━━━━━━━━━━━━━━━━╇━━━━━━━━━━━━━━━━━━━━━━━━╇━━━━━━━━━━━━━━━┩\n",
       "│ lstm (<span style=\"color: #0087ff; text-decoration-color: #0087ff\">LSTM</span>)                     │ (<span style=\"color: #00d7ff; text-decoration-color: #00d7ff\">None</span>, <span style=\"color: #00af00; text-decoration-color: #00af00\">100</span>, <span style=\"color: #00af00; text-decoration-color: #00af00\">50</span>)        │        <span style=\"color: #00af00; text-decoration-color: #00af00\">10,400</span> │\n",
       "├─────────────────────────────────┼────────────────────────┼───────────────┤\n",
       "│ lstm_1 (<span style=\"color: #0087ff; text-decoration-color: #0087ff\">LSTM</span>)                   │ (<span style=\"color: #00d7ff; text-decoration-color: #00d7ff\">None</span>, <span style=\"color: #00af00; text-decoration-color: #00af00\">100</span>, <span style=\"color: #00af00; text-decoration-color: #00af00\">50</span>)        │        <span style=\"color: #00af00; text-decoration-color: #00af00\">20,200</span> │\n",
       "├─────────────────────────────────┼────────────────────────┼───────────────┤\n",
       "│ lstm_2 (<span style=\"color: #0087ff; text-decoration-color: #0087ff\">LSTM</span>)                   │ (<span style=\"color: #00d7ff; text-decoration-color: #00d7ff\">None</span>, <span style=\"color: #00af00; text-decoration-color: #00af00\">50</span>)             │        <span style=\"color: #00af00; text-decoration-color: #00af00\">20,200</span> │\n",
       "├─────────────────────────────────┼────────────────────────┼───────────────┤\n",
       "│ dense (<span style=\"color: #0087ff; text-decoration-color: #0087ff\">Dense</span>)                   │ (<span style=\"color: #00d7ff; text-decoration-color: #00d7ff\">None</span>, <span style=\"color: #00af00; text-decoration-color: #00af00\">1</span>)              │            <span style=\"color: #00af00; text-decoration-color: #00af00\">51</span> │\n",
       "└─────────────────────────────────┴────────────────────────┴───────────────┘\n",
       "</pre>\n"
      ],
      "text/plain": [
       "┏━━━━━━━━━━━━━━━━━━━━━━━━━━━━━━━━━┳━━━━━━━━━━━━━━━━━━━━━━━━┳━━━━━━━━━━━━━━━┓\n",
       "┃\u001b[1m \u001b[0m\u001b[1mLayer (type)                   \u001b[0m\u001b[1m \u001b[0m┃\u001b[1m \u001b[0m\u001b[1mOutput Shape          \u001b[0m\u001b[1m \u001b[0m┃\u001b[1m \u001b[0m\u001b[1m      Param #\u001b[0m\u001b[1m \u001b[0m┃\n",
       "┡━━━━━━━━━━━━━━━━━━━━━━━━━━━━━━━━━╇━━━━━━━━━━━━━━━━━━━━━━━━╇━━━━━━━━━━━━━━━┩\n",
       "│ lstm (\u001b[38;5;33mLSTM\u001b[0m)                     │ (\u001b[38;5;45mNone\u001b[0m, \u001b[38;5;34m100\u001b[0m, \u001b[38;5;34m50\u001b[0m)        │        \u001b[38;5;34m10,400\u001b[0m │\n",
       "├─────────────────────────────────┼────────────────────────┼───────────────┤\n",
       "│ lstm_1 (\u001b[38;5;33mLSTM\u001b[0m)                   │ (\u001b[38;5;45mNone\u001b[0m, \u001b[38;5;34m100\u001b[0m, \u001b[38;5;34m50\u001b[0m)        │        \u001b[38;5;34m20,200\u001b[0m │\n",
       "├─────────────────────────────────┼────────────────────────┼───────────────┤\n",
       "│ lstm_2 (\u001b[38;5;33mLSTM\u001b[0m)                   │ (\u001b[38;5;45mNone\u001b[0m, \u001b[38;5;34m50\u001b[0m)             │        \u001b[38;5;34m20,200\u001b[0m │\n",
       "├─────────────────────────────────┼────────────────────────┼───────────────┤\n",
       "│ dense (\u001b[38;5;33mDense\u001b[0m)                   │ (\u001b[38;5;45mNone\u001b[0m, \u001b[38;5;34m1\u001b[0m)              │            \u001b[38;5;34m51\u001b[0m │\n",
       "└─────────────────────────────────┴────────────────────────┴───────────────┘\n"
      ]
     },
     "metadata": {},
     "output_type": "display_data"
    },
    {
     "data": {
      "text/html": [
       "<pre style=\"white-space:pre;overflow-x:auto;line-height:normal;font-family:Menlo,'DejaVu Sans Mono',consolas,'Courier New',monospace\"><span style=\"font-weight: bold\"> Total params: </span><span style=\"color: #00af00; text-decoration-color: #00af00\">50,851</span> (198.64 KB)\n",
       "</pre>\n"
      ],
      "text/plain": [
       "\u001b[1m Total params: \u001b[0m\u001b[38;5;34m50,851\u001b[0m (198.64 KB)\n"
      ]
     },
     "metadata": {},
     "output_type": "display_data"
    },
    {
     "data": {
      "text/html": [
       "<pre style=\"white-space:pre;overflow-x:auto;line-height:normal;font-family:Menlo,'DejaVu Sans Mono',consolas,'Courier New',monospace\"><span style=\"font-weight: bold\"> Trainable params: </span><span style=\"color: #00af00; text-decoration-color: #00af00\">50,851</span> (198.64 KB)\n",
       "</pre>\n"
      ],
      "text/plain": [
       "\u001b[1m Trainable params: \u001b[0m\u001b[38;5;34m50,851\u001b[0m (198.64 KB)\n"
      ]
     },
     "metadata": {},
     "output_type": "display_data"
    },
    {
     "data": {
      "text/html": [
       "<pre style=\"white-space:pre;overflow-x:auto;line-height:normal;font-family:Menlo,'DejaVu Sans Mono',consolas,'Courier New',monospace\"><span style=\"font-weight: bold\"> Non-trainable params: </span><span style=\"color: #00af00; text-decoration-color: #00af00\">0</span> (0.00 B)\n",
       "</pre>\n"
      ],
      "text/plain": [
       "\u001b[1m Non-trainable params: \u001b[0m\u001b[38;5;34m0\u001b[0m (0.00 B)\n"
      ]
     },
     "metadata": {},
     "output_type": "display_data"
    }
   ],
   "source": [
    "model.summary()"
   ]
  },
  {
   "cell_type": "code",
   "execution_count": 30,
   "id": "207189d3",
   "metadata": {},
   "outputs": [
    {
     "name": "stdout",
     "output_type": "stream",
     "text": [
      "Epoch 1/100\n",
      "\u001b[1m12/12\u001b[0m \u001b[32m━━━━━━━━━━━━━━━━━━━━\u001b[0m\u001b[37m\u001b[0m \u001b[1m2s\u001b[0m 84ms/step - loss: 0.0519 - val_loss: 0.0029\n",
      "Epoch 2/100\n",
      "\u001b[1m12/12\u001b[0m \u001b[32m━━━━━━━━━━━━━━━━━━━━\u001b[0m\u001b[37m\u001b[0m \u001b[1m1s\u001b[0m 78ms/step - loss: 0.0181 - val_loss: 5.7878e-04\n",
      "Epoch 3/100\n",
      "\u001b[1m12/12\u001b[0m \u001b[32m━━━━━━━━━━━━━━━━━━━━\u001b[0m\u001b[37m\u001b[0m \u001b[1m1s\u001b[0m 72ms/step - loss: 0.0120 - val_loss: 0.0021\n",
      "Epoch 4/100\n",
      "\u001b[1m12/12\u001b[0m \u001b[32m━━━━━━━━━━━━━━━━━━━━\u001b[0m\u001b[37m\u001b[0m \u001b[1m1s\u001b[0m 74ms/step - loss: 0.0096 - val_loss: 4.0100e-04\n",
      "Epoch 5/100\n",
      "\u001b[1m12/12\u001b[0m \u001b[32m━━━━━━━━━━━━━━━━━━━━\u001b[0m\u001b[37m\u001b[0m \u001b[1m1s\u001b[0m 79ms/step - loss: 0.0090 - val_loss: 3.1869e-04\n",
      "Epoch 6/100\n",
      "\u001b[1m12/12\u001b[0m \u001b[32m━━━━━━━━━━━━━━━━━━━━\u001b[0m\u001b[37m\u001b[0m \u001b[1m1s\u001b[0m 81ms/step - loss: 0.0067 - val_loss: 4.4276e-04\n",
      "Epoch 7/100\n",
      "\u001b[1m12/12\u001b[0m \u001b[32m━━━━━━━━━━━━━━━━━━━━\u001b[0m\u001b[37m\u001b[0m \u001b[1m1s\u001b[0m 78ms/step - loss: 0.0068 - val_loss: 8.8589e-04\n",
      "Epoch 8/100\n",
      "\u001b[1m12/12\u001b[0m \u001b[32m━━━━━━━━━━━━━━━━━━━━\u001b[0m\u001b[37m\u001b[0m \u001b[1m1s\u001b[0m 75ms/step - loss: 0.0078 - val_loss: 0.0030\n",
      "Epoch 9/100\n",
      "\u001b[1m12/12\u001b[0m \u001b[32m━━━━━━━━━━━━━━━━━━━━\u001b[0m\u001b[37m\u001b[0m \u001b[1m1s\u001b[0m 79ms/step - loss: 0.0060 - val_loss: 3.6337e-04\n",
      "Epoch 10/100\n",
      "\u001b[1m12/12\u001b[0m \u001b[32m━━━━━━━━━━━━━━━━━━━━\u001b[0m\u001b[37m\u001b[0m \u001b[1m1s\u001b[0m 82ms/step - loss: 0.0068 - val_loss: 8.7485e-04\n",
      "Epoch 11/100\n",
      "\u001b[1m12/12\u001b[0m \u001b[32m━━━━━━━━━━━━━━━━━━━━\u001b[0m\u001b[37m\u001b[0m \u001b[1m1s\u001b[0m 78ms/step - loss: 0.0039 - val_loss: 5.8382e-04\n",
      "Epoch 12/100\n",
      "\u001b[1m12/12\u001b[0m \u001b[32m━━━━━━━━━━━━━━━━━━━━\u001b[0m\u001b[37m\u001b[0m \u001b[1m1s\u001b[0m 98ms/step - loss: 0.0044 - val_loss: 6.9887e-04\n",
      "Epoch 13/100\n",
      "\u001b[1m12/12\u001b[0m \u001b[32m━━━━━━━━━━━━━━━━━━━━\u001b[0m\u001b[37m\u001b[0m \u001b[1m1s\u001b[0m 89ms/step - loss: 0.0042 - val_loss: 3.5602e-04\n",
      "Epoch 14/100\n",
      "\u001b[1m12/12\u001b[0m \u001b[32m━━━━━━━━━━━━━━━━━━━━\u001b[0m\u001b[37m\u001b[0m \u001b[1m1s\u001b[0m 83ms/step - loss: 0.0037 - val_loss: 2.4560e-04\n",
      "Epoch 15/100\n",
      "\u001b[1m12/12\u001b[0m \u001b[32m━━━━━━━━━━━━━━━━━━━━\u001b[0m\u001b[37m\u001b[0m \u001b[1m1s\u001b[0m 110ms/step - loss: 0.0039 - val_loss: 7.7685e-04\n",
      "Epoch 16/100\n",
      "\u001b[1m12/12\u001b[0m \u001b[32m━━━━━━━━━━━━━━━━━━━━\u001b[0m\u001b[37m\u001b[0m \u001b[1m1s\u001b[0m 86ms/step - loss: 0.0040 - val_loss: 0.0015\n",
      "Epoch 17/100\n",
      "\u001b[1m12/12\u001b[0m \u001b[32m━━━━━━━━━━━━━━━━━━━━\u001b[0m\u001b[37m\u001b[0m \u001b[1m1s\u001b[0m 84ms/step - loss: 0.0038 - val_loss: 3.2815e-04\n",
      "Epoch 18/100\n",
      "\u001b[1m12/12\u001b[0m \u001b[32m━━━━━━━━━━━━━━━━━━━━\u001b[0m\u001b[37m\u001b[0m \u001b[1m1s\u001b[0m 82ms/step - loss: 0.0022 - val_loss: 2.5318e-04\n",
      "Epoch 19/100\n",
      "\u001b[1m12/12\u001b[0m \u001b[32m━━━━━━━━━━━━━━━━━━━━\u001b[0m\u001b[37m\u001b[0m \u001b[1m1s\u001b[0m 88ms/step - loss: 0.0027 - val_loss: 3.4884e-04\n",
      "Epoch 20/100\n",
      "\u001b[1m12/12\u001b[0m \u001b[32m━━━━━━━━━━━━━━━━━━━━\u001b[0m\u001b[37m\u001b[0m \u001b[1m1s\u001b[0m 84ms/step - loss: 0.0031 - val_loss: 3.0839e-04\n",
      "Epoch 21/100\n",
      "\u001b[1m12/12\u001b[0m \u001b[32m━━━━━━━━━━━━━━━━━━━━\u001b[0m\u001b[37m\u001b[0m \u001b[1m1s\u001b[0m 85ms/step - loss: 0.0029 - val_loss: 3.0906e-04\n",
      "Epoch 22/100\n",
      "\u001b[1m12/12\u001b[0m \u001b[32m━━━━━━━━━━━━━━━━━━━━\u001b[0m\u001b[37m\u001b[0m \u001b[1m1s\u001b[0m 79ms/step - loss: 0.0028 - val_loss: 2.4500e-04\n",
      "Epoch 23/100\n",
      "\u001b[1m12/12\u001b[0m \u001b[32m━━━━━━━━━━━━━━━━━━━━\u001b[0m\u001b[37m\u001b[0m \u001b[1m1s\u001b[0m 78ms/step - loss: 0.0037 - val_loss: 0.0018\n",
      "Epoch 24/100\n",
      "\u001b[1m12/12\u001b[0m \u001b[32m━━━━━━━━━━━━━━━━━━━━\u001b[0m\u001b[37m\u001b[0m \u001b[1m1s\u001b[0m 77ms/step - loss: 0.0036 - val_loss: 2.3815e-04\n",
      "Epoch 25/100\n",
      "\u001b[1m12/12\u001b[0m \u001b[32m━━━━━━━━━━━━━━━━━━━━\u001b[0m\u001b[37m\u001b[0m \u001b[1m1s\u001b[0m 79ms/step - loss: 0.0045 - val_loss: 0.0025\n",
      "Epoch 26/100\n",
      "\u001b[1m12/12\u001b[0m \u001b[32m━━━━━━━━━━━━━━━━━━━━\u001b[0m\u001b[37m\u001b[0m \u001b[1m1s\u001b[0m 77ms/step - loss: 0.0034 - val_loss: 2.6105e-04\n",
      "Epoch 27/100\n",
      "\u001b[1m12/12\u001b[0m \u001b[32m━━━━━━━━━━━━━━━━━━━━\u001b[0m\u001b[37m\u001b[0m \u001b[1m1s\u001b[0m 76ms/step - loss: 0.0024 - val_loss: 2.5839e-04\n",
      "Epoch 28/100\n",
      "\u001b[1m12/12\u001b[0m \u001b[32m━━━━━━━━━━━━━━━━━━━━\u001b[0m\u001b[37m\u001b[0m \u001b[1m1s\u001b[0m 79ms/step - loss: 0.0027 - val_loss: 2.3912e-04\n",
      "Epoch 29/100\n",
      "\u001b[1m12/12\u001b[0m \u001b[32m━━━━━━━━━━━━━━━━━━━━\u001b[0m\u001b[37m\u001b[0m \u001b[1m1s\u001b[0m 82ms/step - loss: 0.0019 - val_loss: 2.9437e-04\n",
      "Epoch 30/100\n",
      "\u001b[1m12/12\u001b[0m \u001b[32m━━━━━━━━━━━━━━━━━━━━\u001b[0m\u001b[37m\u001b[0m \u001b[1m1s\u001b[0m 83ms/step - loss: 0.0019 - val_loss: 4.6757e-04\n",
      "Epoch 31/100\n",
      "\u001b[1m12/12\u001b[0m \u001b[32m━━━━━━━━━━━━━━━━━━━━\u001b[0m\u001b[37m\u001b[0m \u001b[1m1s\u001b[0m 82ms/step - loss: 0.0019 - val_loss: 3.9386e-04\n",
      "Epoch 32/100\n",
      "\u001b[1m12/12\u001b[0m \u001b[32m━━━━━━━━━━━━━━━━━━━━\u001b[0m\u001b[37m\u001b[0m \u001b[1m1s\u001b[0m 83ms/step - loss: 0.0021 - val_loss: 5.2523e-04\n",
      "Epoch 33/100\n",
      "\u001b[1m12/12\u001b[0m \u001b[32m━━━━━━━━━━━━━━━━━━━━\u001b[0m\u001b[37m\u001b[0m \u001b[1m1s\u001b[0m 97ms/step - loss: 0.0033 - val_loss: 6.8074e-04\n",
      "Epoch 34/100\n",
      "\u001b[1m12/12\u001b[0m \u001b[32m━━━━━━━━━━━━━━━━━━━━\u001b[0m\u001b[37m\u001b[0m \u001b[1m1s\u001b[0m 95ms/step - loss: 0.0022 - val_loss: 2.4439e-04\n",
      "Epoch 35/100\n",
      "\u001b[1m12/12\u001b[0m \u001b[32m━━━━━━━━━━━━━━━━━━━━\u001b[0m\u001b[37m\u001b[0m \u001b[1m1s\u001b[0m 98ms/step - loss: 0.0017 - val_loss: 4.2236e-04\n",
      "Epoch 36/100\n",
      "\u001b[1m12/12\u001b[0m \u001b[32m━━━━━━━━━━━━━━━━━━━━\u001b[0m\u001b[37m\u001b[0m \u001b[1m1s\u001b[0m 87ms/step - loss: 0.0018 - val_loss: 2.7274e-04\n",
      "Epoch 37/100\n",
      "\u001b[1m12/12\u001b[0m \u001b[32m━━━━━━━━━━━━━━━━━━━━\u001b[0m\u001b[37m\u001b[0m \u001b[1m1s\u001b[0m 83ms/step - loss: 0.0016 - val_loss: 4.1201e-04\n",
      "Epoch 38/100\n",
      "\u001b[1m12/12\u001b[0m \u001b[32m━━━━━━━━━━━━━━━━━━━━\u001b[0m\u001b[37m\u001b[0m \u001b[1m1s\u001b[0m 77ms/step - loss: 0.0021 - val_loss: 4.4858e-04\n",
      "Epoch 39/100\n",
      "\u001b[1m12/12\u001b[0m \u001b[32m━━━━━━━━━━━━━━━━━━━━\u001b[0m\u001b[37m\u001b[0m \u001b[1m1s\u001b[0m 78ms/step - loss: 0.0020 - val_loss: 2.3980e-04\n",
      "Epoch 40/100\n",
      "\u001b[1m12/12\u001b[0m \u001b[32m━━━━━━━━━━━━━━━━━━━━\u001b[0m\u001b[37m\u001b[0m \u001b[1m1s\u001b[0m 79ms/step - loss: 0.0015 - val_loss: 3.6951e-04\n",
      "Epoch 41/100\n",
      "\u001b[1m12/12\u001b[0m \u001b[32m━━━━━━━━━━━━━━━━━━━━\u001b[0m\u001b[37m\u001b[0m \u001b[1m1s\u001b[0m 80ms/step - loss: 0.0023 - val_loss: 2.8208e-04\n",
      "Epoch 42/100\n",
      "\u001b[1m12/12\u001b[0m \u001b[32m━━━━━━━━━━━━━━━━━━━━\u001b[0m\u001b[37m\u001b[0m \u001b[1m1s\u001b[0m 82ms/step - loss: 0.0031 - val_loss: 3.9983e-04\n",
      "Epoch 43/100\n",
      "\u001b[1m12/12\u001b[0m \u001b[32m━━━━━━━━━━━━━━━━━━━━\u001b[0m\u001b[37m\u001b[0m \u001b[1m1s\u001b[0m 85ms/step - loss: 0.0018 - val_loss: 2.1310e-04\n",
      "Epoch 44/100\n",
      "\u001b[1m12/12\u001b[0m \u001b[32m━━━━━━━━━━━━━━━━━━━━\u001b[0m\u001b[37m\u001b[0m \u001b[1m1s\u001b[0m 83ms/step - loss: 0.0017 - val_loss: 3.3658e-04\n",
      "Epoch 45/100\n",
      "\u001b[1m12/12\u001b[0m \u001b[32m━━━━━━━━━━━━━━━━━━━━\u001b[0m\u001b[37m\u001b[0m \u001b[1m1s\u001b[0m 94ms/step - loss: 0.0021 - val_loss: 4.0307e-04\n",
      "Epoch 46/100\n",
      "\u001b[1m12/12\u001b[0m \u001b[32m━━━━━━━━━━━━━━━━━━━━\u001b[0m\u001b[37m\u001b[0m \u001b[1m1s\u001b[0m 86ms/step - loss: 0.0020 - val_loss: 2.2744e-04\n",
      "Epoch 47/100\n",
      "\u001b[1m12/12\u001b[0m \u001b[32m━━━━━━━━━━━━━━━━━━━━\u001b[0m\u001b[37m\u001b[0m \u001b[1m1s\u001b[0m 106ms/step - loss: 0.0015 - val_loss: 3.1105e-04\n",
      "Epoch 48/100\n",
      "\u001b[1m12/12\u001b[0m \u001b[32m━━━━━━━━━━━━━━━━━━━━\u001b[0m\u001b[37m\u001b[0m \u001b[1m1s\u001b[0m 77ms/step - loss: 0.0019 - val_loss: 2.8295e-04\n",
      "Epoch 49/100\n",
      "\u001b[1m12/12\u001b[0m \u001b[32m━━━━━━━━━━━━━━━━━━━━\u001b[0m\u001b[37m\u001b[0m \u001b[1m1s\u001b[0m 79ms/step - loss: 0.0018 - val_loss: 2.7091e-04\n",
      "Epoch 50/100\n",
      "\u001b[1m12/12\u001b[0m \u001b[32m━━━━━━━━━━━━━━━━━━━━\u001b[0m\u001b[37m\u001b[0m \u001b[1m1s\u001b[0m 83ms/step - loss: 0.0018 - val_loss: 2.2329e-04\n",
      "Epoch 51/100\n",
      "\u001b[1m12/12\u001b[0m \u001b[32m━━━━━━━━━━━━━━━━━━━━\u001b[0m\u001b[37m\u001b[0m \u001b[1m1s\u001b[0m 80ms/step - loss: 0.0021 - val_loss: 2.5069e-04\n",
      "Epoch 52/100\n",
      "\u001b[1m12/12\u001b[0m \u001b[32m━━━━━━━━━━━━━━━━━━━━\u001b[0m\u001b[37m\u001b[0m \u001b[1m1s\u001b[0m 86ms/step - loss: 0.0020 - val_loss: 2.8455e-04\n",
      "Epoch 53/100\n",
      "\u001b[1m12/12\u001b[0m \u001b[32m━━━━━━━━━━━━━━━━━━━━\u001b[0m\u001b[37m\u001b[0m \u001b[1m1s\u001b[0m 90ms/step - loss: 0.0017 - val_loss: 3.1681e-04\n",
      "Epoch 54/100\n",
      "\u001b[1m12/12\u001b[0m \u001b[32m━━━━━━━━━━━━━━━━━━━━\u001b[0m\u001b[37m\u001b[0m \u001b[1m1s\u001b[0m 81ms/step - loss: 0.0029 - val_loss: 5.1922e-04\n",
      "Epoch 55/100\n",
      "\u001b[1m12/12\u001b[0m \u001b[32m━━━━━━━━━━━━━━━━━━━━\u001b[0m\u001b[37m\u001b[0m \u001b[1m1s\u001b[0m 79ms/step - loss: 0.0028 - val_loss: 2.5057e-04\n",
      "Epoch 56/100\n",
      "\u001b[1m12/12\u001b[0m \u001b[32m━━━━━━━━━━━━━━━━━━━━\u001b[0m\u001b[37m\u001b[0m \u001b[1m1s\u001b[0m 79ms/step - loss: 0.0024 - val_loss: 2.4040e-04\n",
      "Epoch 57/100\n",
      "\u001b[1m12/12\u001b[0m \u001b[32m━━━━━━━━━━━━━━━━━━━━\u001b[0m\u001b[37m\u001b[0m \u001b[1m1s\u001b[0m 80ms/step - loss: 0.0025 - val_loss: 3.1145e-04\n",
      "Epoch 58/100\n",
      "\u001b[1m12/12\u001b[0m \u001b[32m━━━━━━━━━━━━━━━━━━━━\u001b[0m\u001b[37m\u001b[0m \u001b[1m1s\u001b[0m 83ms/step - loss: 0.0028 - val_loss: 2.0623e-04\n",
      "Epoch 59/100\n",
      "\u001b[1m12/12\u001b[0m \u001b[32m━━━━━━━━━━━━━━━━━━━━\u001b[0m\u001b[37m\u001b[0m \u001b[1m1s\u001b[0m 81ms/step - loss: 0.0033 - val_loss: 2.5206e-04\n",
      "Epoch 60/100\n",
      "\u001b[1m12/12\u001b[0m \u001b[32m━━━━━━━━━━━━━━━━━━━━\u001b[0m\u001b[37m\u001b[0m \u001b[1m1s\u001b[0m 98ms/step - loss: 0.0015 - val_loss: 2.0391e-04\n",
      "Epoch 61/100\n",
      "\u001b[1m12/12\u001b[0m \u001b[32m━━━━━━━━━━━━━━━━━━━━\u001b[0m\u001b[37m\u001b[0m \u001b[1m1s\u001b[0m 81ms/step - loss: 0.0015 - val_loss: 2.4847e-04\n",
      "Epoch 62/100\n",
      "\u001b[1m12/12\u001b[0m \u001b[32m━━━━━━━━━━━━━━━━━━━━\u001b[0m\u001b[37m\u001b[0m \u001b[1m1s\u001b[0m 83ms/step - loss: 0.0015 - val_loss: 2.0906e-04\n",
      "Epoch 63/100\n",
      "\u001b[1m12/12\u001b[0m \u001b[32m━━━━━━━━━━━━━━━━━━━━\u001b[0m\u001b[37m\u001b[0m \u001b[1m1s\u001b[0m 86ms/step - loss: 0.0011 - val_loss: 2.6783e-04\n",
      "Epoch 64/100\n",
      "\u001b[1m12/12\u001b[0m \u001b[32m━━━━━━━━━━━━━━━━━━━━\u001b[0m\u001b[37m\u001b[0m \u001b[1m1s\u001b[0m 85ms/step - loss: 0.0023 - val_loss: 2.0916e-04\n",
      "Epoch 65/100\n",
      "\u001b[1m12/12\u001b[0m \u001b[32m━━━━━━━━━━━━━━━━━━━━\u001b[0m\u001b[37m\u001b[0m \u001b[1m1s\u001b[0m 82ms/step - loss: 0.0017 - val_loss: 2.5400e-04\n",
      "Epoch 66/100\n"
     ]
    },
    {
     "name": "stdout",
     "output_type": "stream",
     "text": [
      "\u001b[1m12/12\u001b[0m \u001b[32m━━━━━━━━━━━━━━━━━━━━\u001b[0m\u001b[37m\u001b[0m \u001b[1m1s\u001b[0m 82ms/step - loss: 0.0023 - val_loss: 2.2256e-04\n",
      "Epoch 67/100\n",
      "\u001b[1m12/12\u001b[0m \u001b[32m━━━━━━━━━━━━━━━━━━━━\u001b[0m\u001b[37m\u001b[0m \u001b[1m1s\u001b[0m 94ms/step - loss: 0.0016 - val_loss: 2.0513e-04\n",
      "Epoch 68/100\n",
      "\u001b[1m12/12\u001b[0m \u001b[32m━━━━━━━━━━━━━━━━━━━━\u001b[0m\u001b[37m\u001b[0m \u001b[1m1s\u001b[0m 91ms/step - loss: 0.0013 - val_loss: 2.6609e-04\n",
      "Epoch 69/100\n",
      "\u001b[1m12/12\u001b[0m \u001b[32m━━━━━━━━━━━━━━━━━━━━\u001b[0m\u001b[37m\u001b[0m \u001b[1m1s\u001b[0m 79ms/step - loss: 8.3971e-04 - val_loss: 3.4362e-04\n",
      "Epoch 70/100\n",
      "\u001b[1m12/12\u001b[0m \u001b[32m━━━━━━━━━━━━━━━━━━━━\u001b[0m\u001b[37m\u001b[0m \u001b[1m1s\u001b[0m 77ms/step - loss: 0.0011 - val_loss: 2.1450e-04\n",
      "Epoch 71/100\n",
      "\u001b[1m12/12\u001b[0m \u001b[32m━━━━━━━━━━━━━━━━━━━━\u001b[0m\u001b[37m\u001b[0m \u001b[1m1s\u001b[0m 78ms/step - loss: 0.0013 - val_loss: 2.1868e-04\n",
      "Epoch 72/100\n",
      "\u001b[1m12/12\u001b[0m \u001b[32m━━━━━━━━━━━━━━━━━━━━\u001b[0m\u001b[37m\u001b[0m \u001b[1m1s\u001b[0m 79ms/step - loss: 0.0014 - val_loss: 2.0570e-04\n",
      "Epoch 73/100\n",
      "\u001b[1m12/12\u001b[0m \u001b[32m━━━━━━━━━━━━━━━━━━━━\u001b[0m\u001b[37m\u001b[0m \u001b[1m1s\u001b[0m 100ms/step - loss: 9.1066e-04 - val_loss: 2.0263e-04\n",
      "Epoch 74/100\n",
      "\u001b[1m12/12\u001b[0m \u001b[32m━━━━━━━━━━━━━━━━━━━━\u001b[0m\u001b[37m\u001b[0m \u001b[1m1s\u001b[0m 95ms/step - loss: 0.0012 - val_loss: 2.5288e-04\n",
      "Epoch 75/100\n",
      "\u001b[1m12/12\u001b[0m \u001b[32m━━━━━━━━━━━━━━━━━━━━\u001b[0m\u001b[37m\u001b[0m \u001b[1m1s\u001b[0m 83ms/step - loss: 0.0010 - val_loss: 2.8113e-04\n",
      "Epoch 76/100\n",
      "\u001b[1m12/12\u001b[0m \u001b[32m━━━━━━━━━━━━━━━━━━━━\u001b[0m\u001b[37m\u001b[0m \u001b[1m1s\u001b[0m 78ms/step - loss: 0.0018 - val_loss: 2.7611e-04\n",
      "Epoch 77/100\n",
      "\u001b[1m12/12\u001b[0m \u001b[32m━━━━━━━━━━━━━━━━━━━━\u001b[0m\u001b[37m\u001b[0m \u001b[1m1s\u001b[0m 80ms/step - loss: 0.0016 - val_loss: 2.6491e-04\n",
      "Epoch 78/100\n",
      "\u001b[1m12/12\u001b[0m \u001b[32m━━━━━━━━━━━━━━━━━━━━\u001b[0m\u001b[37m\u001b[0m \u001b[1m1s\u001b[0m 78ms/step - loss: 0.0026 - val_loss: 2.0940e-04\n",
      "Epoch 79/100\n",
      "\u001b[1m12/12\u001b[0m \u001b[32m━━━━━━━━━━━━━━━━━━━━\u001b[0m\u001b[37m\u001b[0m \u001b[1m1s\u001b[0m 79ms/step - loss: 0.0029 - val_loss: 4.8135e-04\n",
      "Epoch 80/100\n",
      "\u001b[1m12/12\u001b[0m \u001b[32m━━━━━━━━━━━━━━━━━━━━\u001b[0m\u001b[37m\u001b[0m \u001b[1m1s\u001b[0m 80ms/step - loss: 0.0015 - val_loss: 2.2086e-04\n",
      "Epoch 81/100\n",
      "\u001b[1m12/12\u001b[0m \u001b[32m━━━━━━━━━━━━━━━━━━━━\u001b[0m\u001b[37m\u001b[0m \u001b[1m1s\u001b[0m 75ms/step - loss: 0.0017 - val_loss: 7.9438e-04\n",
      "Epoch 82/100\n",
      "\u001b[1m12/12\u001b[0m \u001b[32m━━━━━━━━━━━━━━━━━━━━\u001b[0m\u001b[37m\u001b[0m \u001b[1m1s\u001b[0m 77ms/step - loss: 0.0015 - val_loss: 2.0313e-04\n",
      "Epoch 83/100\n",
      "\u001b[1m12/12\u001b[0m \u001b[32m━━━━━━━━━━━━━━━━━━━━\u001b[0m\u001b[37m\u001b[0m \u001b[1m1s\u001b[0m 77ms/step - loss: 0.0016 - val_loss: 3.5605e-04\n",
      "Epoch 84/100\n",
      "\u001b[1m12/12\u001b[0m \u001b[32m━━━━━━━━━━━━━━━━━━━━\u001b[0m\u001b[37m\u001b[0m \u001b[1m1s\u001b[0m 76ms/step - loss: 0.0012 - val_loss: 2.1745e-04\n",
      "Epoch 85/100\n",
      "\u001b[1m12/12\u001b[0m \u001b[32m━━━━━━━━━━━━━━━━━━━━\u001b[0m\u001b[37m\u001b[0m \u001b[1m1s\u001b[0m 80ms/step - loss: 0.0013 - val_loss: 2.3621e-04\n",
      "Epoch 86/100\n",
      "\u001b[1m12/12\u001b[0m \u001b[32m━━━━━━━━━━━━━━━━━━━━\u001b[0m\u001b[37m\u001b[0m \u001b[1m1s\u001b[0m 75ms/step - loss: 0.0018 - val_loss: 2.2169e-04\n",
      "Epoch 87/100\n",
      "\u001b[1m12/12\u001b[0m \u001b[32m━━━━━━━━━━━━━━━━━━━━\u001b[0m\u001b[37m\u001b[0m \u001b[1m1s\u001b[0m 77ms/step - loss: 0.0011 - val_loss: 2.3670e-04\n",
      "Epoch 88/100\n",
      "\u001b[1m12/12\u001b[0m \u001b[32m━━━━━━━━━━━━━━━━━━━━\u001b[0m\u001b[37m\u001b[0m \u001b[1m1s\u001b[0m 76ms/step - loss: 7.5314e-04 - val_loss: 4.0099e-04\n",
      "Epoch 89/100\n",
      "\u001b[1m12/12\u001b[0m \u001b[32m━━━━━━━━━━━━━━━━━━━━\u001b[0m\u001b[37m\u001b[0m \u001b[1m1s\u001b[0m 77ms/step - loss: 0.0016 - val_loss: 2.5680e-04\n",
      "Epoch 90/100\n",
      "\u001b[1m12/12\u001b[0m \u001b[32m━━━━━━━━━━━━━━━━━━━━\u001b[0m\u001b[37m\u001b[0m \u001b[1m1s\u001b[0m 77ms/step - loss: 8.0647e-04 - val_loss: 5.3426e-04\n",
      "Epoch 91/100\n",
      "\u001b[1m12/12\u001b[0m \u001b[32m━━━━━━━━━━━━━━━━━━━━\u001b[0m\u001b[37m\u001b[0m \u001b[1m1s\u001b[0m 77ms/step - loss: 0.0046 - val_loss: 5.2983e-04\n",
      "Epoch 92/100\n",
      "\u001b[1m12/12\u001b[0m \u001b[32m━━━━━━━━━━━━━━━━━━━━\u001b[0m\u001b[37m\u001b[0m \u001b[1m1s\u001b[0m 80ms/step - loss: 0.0023 - val_loss: 7.2978e-04\n",
      "Epoch 93/100\n",
      "\u001b[1m12/12\u001b[0m \u001b[32m━━━━━━━━━━━━━━━━━━━━\u001b[0m\u001b[37m\u001b[0m \u001b[1m1s\u001b[0m 77ms/step - loss: 0.0014 - val_loss: 3.9109e-04\n",
      "Epoch 94/100\n",
      "\u001b[1m12/12\u001b[0m \u001b[32m━━━━━━━━━━━━━━━━━━━━\u001b[0m\u001b[37m\u001b[0m \u001b[1m1s\u001b[0m 78ms/step - loss: 0.0010 - val_loss: 1.9672e-04\n",
      "Epoch 95/100\n",
      "\u001b[1m12/12\u001b[0m \u001b[32m━━━━━━━━━━━━━━━━━━━━\u001b[0m\u001b[37m\u001b[0m \u001b[1m1s\u001b[0m 77ms/step - loss: 0.0016 - val_loss: 1.9415e-04\n",
      "Epoch 96/100\n",
      "\u001b[1m12/12\u001b[0m \u001b[32m━━━━━━━━━━━━━━━━━━━━\u001b[0m\u001b[37m\u001b[0m \u001b[1m1s\u001b[0m 79ms/step - loss: 0.0051 - val_loss: 8.3811e-04\n",
      "Epoch 97/100\n",
      "\u001b[1m12/12\u001b[0m \u001b[32m━━━━━━━━━━━━━━━━━━━━\u001b[0m\u001b[37m\u001b[0m \u001b[1m1s\u001b[0m 76ms/step - loss: 0.0035 - val_loss: 2.6733e-04\n",
      "Epoch 98/100\n",
      "\u001b[1m12/12\u001b[0m \u001b[32m━━━━━━━━━━━━━━━━━━━━\u001b[0m\u001b[37m\u001b[0m \u001b[1m1s\u001b[0m 76ms/step - loss: 0.0037 - val_loss: 7.8459e-04\n",
      "Epoch 99/100\n",
      "\u001b[1m12/12\u001b[0m \u001b[32m━━━━━━━━━━━━━━━━━━━━\u001b[0m\u001b[37m\u001b[0m \u001b[1m1s\u001b[0m 78ms/step - loss: 0.0022 - val_loss: 2.1452e-04\n",
      "Epoch 100/100\n",
      "\u001b[1m12/12\u001b[0m \u001b[32m━━━━━━━━━━━━━━━━━━━━\u001b[0m\u001b[37m\u001b[0m \u001b[1m1s\u001b[0m 76ms/step - loss: 0.0012 - val_loss: 2.2038e-04\n"
     ]
    },
    {
     "data": {
      "text/plain": [
       "<keras.src.callbacks.history.History at 0x16b236c90>"
      ]
     },
     "execution_count": 30,
     "metadata": {},
     "output_type": "execute_result"
    }
   ],
   "source": [
    "model.fit(x_train,y_train,validation_data = (x_test,y_test),epochs=100,batch_size =64,verbose=1)"
   ]
  },
  {
   "cell_type": "code",
   "execution_count": 31,
   "id": "8670b917",
   "metadata": {},
   "outputs": [],
   "source": [
    "import tensorflow as tf"
   ]
  },
  {
   "cell_type": "code",
   "execution_count": 32,
   "id": "aaeffa06",
   "metadata": {},
   "outputs": [
    {
     "data": {
      "text/plain": [
       "'2.16.1'"
      ]
     },
     "execution_count": 32,
     "metadata": {},
     "output_type": "execute_result"
    }
   ],
   "source": [
    "tf.__version__"
   ]
  },
  {
   "cell_type": "code",
   "execution_count": 33,
   "id": "fba06a03",
   "metadata": {},
   "outputs": [
    {
     "name": "stdout",
     "output_type": "stream",
     "text": [
      "\u001b[1m23/23\u001b[0m \u001b[32m━━━━━━━━━━━━━━━━━━━━\u001b[0m\u001b[37m\u001b[0m \u001b[1m1s\u001b[0m 17ms/step\n",
      "\u001b[1m11/11\u001b[0m \u001b[32m━━━━━━━━━━━━━━━━━━━━\u001b[0m\u001b[37m\u001b[0m \u001b[1m0s\u001b[0m 11ms/step\n"
     ]
    }
   ],
   "source": [
    "train_predict = model.predict(x_train)\n",
    "test_predict = model.predict(x_test)"
   ]
  },
  {
   "cell_type": "code",
   "execution_count": 38,
   "id": "65c4bb72",
   "metadata": {},
   "outputs": [],
   "source": [
    "train_predict = scaler.inverse_transform(train_predict)\n",
    "test_predict = scaler.inverse_transform(test_predict)"
   ]
  },
  {
   "cell_type": "code",
   "execution_count": 40,
   "id": "2260f9f0",
   "metadata": {},
   "outputs": [
    {
     "data": {
      "text/plain": [
       "194.31968962120982"
      ]
     },
     "execution_count": 40,
     "metadata": {},
     "output_type": "execute_result"
    }
   ],
   "source": [
    "import math\n",
    "from sklearn.metrics import mean_squared_error\n",
    "# RMSE of test data\n",
    "math.sqrt(mean_squared_error(y_test,test_predict))"
   ]
  },
  {
   "cell_type": "code",
   "execution_count": 42,
   "id": "181919c5",
   "metadata": {},
   "outputs": [
    {
     "data": {
      "image/png": "[encoded data removed]",
      "text/plain": [
       "<Figure size 640x480 with 1 Axes>"
      ]
     },
     "metadata": {},
     "output_type": "display_data"
    }
   ],
   "source": [
    "# plotting\n",
    "look_back = 100\n",
    "trainPredictPlot = numpy.empty_like(df1)\n",
    "trainPredictPlot[:,:] = np.nan\n",
    "trainPredictPlot[look_back:len(train_predict)+look_back , :] = train_predict\n",
    "\n",
    "testPredictPlot = numpy.empty_like(df1)\n",
    "testPredictPlot[:,:] = numpy.nan\n",
    "testPredictPlot[len(train_predict)+(look_back*2)+1:len(df1)-1 , :] = test_predict\n",
    "plt.plot(scaler.inverse_transform(df1))\n",
    "plt.plot(trainPredictPlot)\n",
    "plt.plot(testPredictPlot)\n",
    "plt.show()"
   ]
  },
  {
   "cell_type": "code",
   "execution_count": 43,
   "id": "228a54d0",
   "metadata": {},
   "outputs": [
    {
     "data": {
      "text/plain": [
       "440"
      ]
     },
     "execution_count": 43,
     "metadata": {},
     "output_type": "execute_result"
    }
   ],
   "source": [
    "len(test_data)"
   ]
  },
  {
   "cell_type": "code",
   "execution_count": 44,
   "id": "c443d31a",
   "metadata": {},
   "outputs": [
    {
     "data": {
      "text/plain": [
       "(1, 100)"
      ]
     },
     "execution_count": 44,
     "metadata": {},
     "output_type": "execute_result"
    }
   ],
   "source": [
    "x_input = test_data[340:].reshape(1,-1)\n",
    "x_input.shape"
   ]
  },
  {
   "cell_type": "code",
   "execution_count": 46,
   "id": "293223f3",
   "metadata": {},
   "outputs": [],
   "source": [
    "temp_input = list(x_input)\n",
    "temp_input = temp_input[0].tolist()"
   ]
  },
  {
   "cell_type": "code",
   "execution_count": 47,
   "id": "56ce770e",
   "metadata": {},
   "outputs": [
    {
     "data": {
      "text/plain": [
       "[0.189254852849092,\n",
       " 0.19010644959298684,\n",
       " 0.1946900438321853,\n",
       " 0.19088290544771447,\n",
       " 0.19897307451471502,\n",
       " 0.20185347526612396,\n",
       " 0.207589229805886,\n",
       " 0.20788979336255475,\n",
       " 0.20796493425172197,\n",
       " 0.2108954289292423,\n",
       " 0.21417658108954285,\n",
       " 0.2105447714464621,\n",
       " 0.2004758922980588,\n",
       " 0.20824045084533493,\n",
       " 0.2082654978083907,\n",
       " 0.20901690670006257,\n",
       " 0.2115216030056355,\n",
       " 0.21392611145898555,\n",
       " 0.2183844708829054,\n",
       " 0.2191859737006887,\n",
       " 0.22299311208515965,\n",
       " 0.21951158422041323,\n",
       " 0.22554790231684402,\n",
       " 0.216105197244834,\n",
       " 0.25124608641202256,\n",
       " 0.2660738885410144,\n",
       " 0.26900438321853476,\n",
       " 0.2646211646837821,\n",
       " 0.275090795241077,\n",
       " 0.26912961803381336,\n",
       " 0.2575829680651221,\n",
       " 0.25209768315591735,\n",
       " 0.25372573575453966,\n",
       " 0.25605510331872255,\n",
       " 0.26652473387601744,\n",
       " 0.26865372573575447,\n",
       " 0.2599373825923606,\n",
       " 0.27529117094552286,\n",
       " 0.2841077019411396,\n",
       " 0.287313713212273,\n",
       " 0.29931120851596743,\n",
       " 0.30301815904821533,\n",
       " 0.3051721978710081,\n",
       " 0.3159423919849717,\n",
       " 0.3023919849718221,\n",
       " 0.30983093299937375,\n",
       " 0.3194990607388854,\n",
       " 0.32055103318722594,\n",
       " 0.3056731371321227,\n",
       " 0.29390106449592984,\n",
       " 0.2942266750156543,\n",
       " 0.2933500313087038,\n",
       " 0.2959799624295553,\n",
       " 0.2797745773324984,\n",
       " 0.27714464621164686,\n",
       " 0.2783218534752661,\n",
       " 0.2790231684408265,\n",
       " 0.2804257983719474,\n",
       " 0.2886412022542267,\n",
       " 0.27932373199749533,\n",
       " 0.28308077645585467,\n",
       " 0.25655604257983716,\n",
       " 0.2514464621164683,\n",
       " 0.2579336255479023,\n",
       " 0.26667501565435187,\n",
       " 0.2740137758296806,\n",
       " 0.27724483406386974,\n",
       " 0.28661239824671253,\n",
       " 0.28773951158422034,\n",
       " 0.29525360050093924,\n",
       " 0.29858484658735124,\n",
       " 0.2981840951784595,\n",
       " 0.29973700688791477,\n",
       " 0.29946149029430175,\n",
       " 0.29477770820288035,\n",
       " 0.30056355666875384,\n",
       " 0.30141515341264863,\n",
       " 0.30354414527238566,\n",
       " 0.29968691296180333,\n",
       " 0.30795241077019403,\n",
       " 0.30597370068879143,\n",
       " 0.290369442705072,\n",
       " 0.2855604257983719,\n",
       " 0.2893926111458985,\n",
       " 0.2854852849092047,\n",
       " 0.2857107075767063,\n",
       " 0.283706950532248,\n",
       " 0.29009392611145896,\n",
       " 0.290369442705072,\n",
       " 0.2896931747025672,\n",
       " 0.27421415153412637,\n",
       " 0.27539135879774573,\n",
       " 0.28515967438948026,\n",
       " 0.30564809016906697,\n",
       " 0.303969943644333,\n",
       " 0.2996368190356919,\n",
       " 0.3018910457107075,\n",
       " 0.2993863494051346,\n",
       " 0.30226675015654353,\n",
       " 0.30294301815904817]"
      ]
     },
     "execution_count": 47,
     "metadata": {},
     "output_type": "execute_result"
    }
   ],
   "source": [
    "temp_input"
   ]
  },
  {
   "cell_type": "code",
   "execution_count": 52,
   "id": "d3c182d2",
   "metadata": {},
   "outputs": [
    {
     "name": "stdout",
     "output_type": "stream",
     "text": [
      "[0.3047482]\n",
      "101\n",
      "1 day_input [0.19010645 0.19469004 0.19088291 0.19897307 0.20185348 0.20758923\n",
      " 0.20788979 0.20796493 0.21089543 0.21417658 0.21054477 0.20047589\n",
      " 0.20824045 0.2082655  0.20901691 0.2115216  0.21392611 0.21838447\n",
      " 0.21918597 0.22299311 0.21951158 0.2255479  0.2161052  0.25124609\n",
      " 0.26607389 0.26900438 0.26462116 0.2750908  0.26912962 0.25758297\n",
      " 0.25209768 0.25372574 0.2560551  0.26652473 0.26865373 0.25993738\n",
      " 0.27529117 0.2841077  0.28731371 0.29931121 0.30301816 0.3051722\n",
      " 0.31594239 0.30239198 0.30983093 0.31949906 0.32055103 0.30567314\n",
      " 0.29390106 0.29422668 0.29335003 0.29597996 0.27977458 0.27714465\n",
      " 0.27832185 0.27902317 0.2804258  0.2886412  0.27932373 0.28308078\n",
      " 0.25655604 0.25144646 0.25793363 0.26667502 0.27401378 0.27724483\n",
      " 0.2866124  0.28773951 0.2952536  0.29858485 0.2981841  0.29973701\n",
      " 0.29946149 0.29477771 0.30056356 0.30141515 0.30354415 0.29968691\n",
      " 0.30795241 0.3059737  0.29036944 0.28556043 0.28939261 0.28548528\n",
      " 0.28571071 0.28370695 0.29009393 0.29036944 0.28969317 0.27421415\n",
      " 0.27539136 0.28515967 0.30564809 0.30396994 0.29963682 0.30189105\n",
      " 0.29938635 0.30226675 0.30294302 0.30474821]\n",
      "1 day_input [[0.30659804]]\n",
      "2 day_input [0.19469004 0.19088291 0.19897307 0.20185348 0.20758923 0.20788979\n",
      " 0.20796493 0.21089543 0.21417658 0.21054477 0.20047589 0.20824045\n",
      " 0.2082655  0.20901691 0.2115216  0.21392611 0.21838447 0.21918597\n",
      " 0.22299311 0.21951158 0.2255479  0.2161052  0.25124609 0.26607389\n",
      " 0.26900438 0.26462116 0.2750908  0.26912962 0.25758297 0.25209768\n",
      " 0.25372574 0.2560551  0.26652473 0.26865373 0.25993738 0.27529117\n",
      " 0.2841077  0.28731371 0.29931121 0.30301816 0.3051722  0.31594239\n",
      " 0.30239198 0.30983093 0.31949906 0.32055103 0.30567314 0.29390106\n",
      " 0.29422668 0.29335003 0.29597996 0.27977458 0.27714465 0.27832185\n",
      " 0.27902317 0.2804258  0.2886412  0.27932373 0.28308078 0.25655604\n",
      " 0.25144646 0.25793363 0.26667502 0.27401378 0.27724483 0.2866124\n",
      " 0.28773951 0.2952536  0.29858485 0.2981841  0.29973701 0.29946149\n",
      " 0.29477771 0.30056356 0.30141515 0.30354415 0.29968691 0.30795241\n",
      " 0.3059737  0.29036944 0.28556043 0.28939261 0.28548528 0.28571071\n",
      " 0.28370695 0.29009393 0.29036944 0.28969317 0.27421415 0.27539136\n",
      " 0.28515967 0.30564809 0.30396994 0.29963682 0.30189105 0.29938635\n",
      " 0.30226675 0.30294302 0.30474821 0.30659804]\n",
      "2 day_input [[0.3083988]]\n",
      "3 day_input [0.19088291 0.19897307 0.20185348 0.20758923 0.20788979 0.20796493\n",
      " 0.21089543 0.21417658 0.21054477 0.20047589 0.20824045 0.2082655\n",
      " 0.20901691 0.2115216  0.21392611 0.21838447 0.21918597 0.22299311\n",
      " 0.21951158 0.2255479  0.2161052  0.25124609 0.26607389 0.26900438\n",
      " 0.26462116 0.2750908  0.26912962 0.25758297 0.25209768 0.25372574\n",
      " 0.2560551  0.26652473 0.26865373 0.25993738 0.27529117 0.2841077\n",
      " 0.28731371 0.29931121 0.30301816 0.3051722  0.31594239 0.30239198\n",
      " 0.30983093 0.31949906 0.32055103 0.30567314 0.29390106 0.29422668\n",
      " 0.29335003 0.29597996 0.27977458 0.27714465 0.27832185 0.27902317\n",
      " 0.2804258  0.2886412  0.27932373 0.28308078 0.25655604 0.25144646\n",
      " 0.25793363 0.26667502 0.27401378 0.27724483 0.2866124  0.28773951\n",
      " 0.2952536  0.29858485 0.2981841  0.29973701 0.29946149 0.29477771\n",
      " 0.30056356 0.30141515 0.30354415 0.29968691 0.30795241 0.3059737\n",
      " 0.29036944 0.28556043 0.28939261 0.28548528 0.28571071 0.28370695\n",
      " 0.29009393 0.29036944 0.28969317 0.27421415 0.27539136 0.28515967\n",
      " 0.30564809 0.30396994 0.29963682 0.30189105 0.29938635 0.30226675\n",
      " 0.30294302 0.30474821 0.30659804 0.30839881]\n",
      "3 day_input [[0.31022012]]\n",
      "4 day_input [0.19897307 0.20185348 0.20758923 0.20788979 0.20796493 0.21089543\n",
      " 0.21417658 0.21054477 0.20047589 0.20824045 0.2082655  0.20901691\n",
      " 0.2115216  0.21392611 0.21838447 0.21918597 0.22299311 0.21951158\n",
      " 0.2255479  0.2161052  0.25124609 0.26607389 0.26900438 0.26462116\n",
      " 0.2750908  0.26912962 0.25758297 0.25209768 0.25372574 0.2560551\n",
      " 0.26652473 0.26865373 0.25993738 0.27529117 0.2841077  0.28731371\n",
      " 0.29931121 0.30301816 0.3051722  0.31594239 0.30239198 0.30983093\n",
      " 0.31949906 0.32055103 0.30567314 0.29390106 0.29422668 0.29335003\n",
      " 0.29597996 0.27977458 0.27714465 0.27832185 0.27902317 0.2804258\n",
      " 0.2886412  0.27932373 0.28308078 0.25655604 0.25144646 0.25793363\n",
      " 0.26667502 0.27401378 0.27724483 0.2866124  0.28773951 0.2952536\n",
      " 0.29858485 0.2981841  0.29973701 0.29946149 0.29477771 0.30056356\n",
      " 0.30141515 0.30354415 0.29968691 0.30795241 0.3059737  0.29036944\n",
      " 0.28556043 0.28939261 0.28548528 0.28571071 0.28370695 0.29009393\n",
      " 0.29036944 0.28969317 0.27421415 0.27539136 0.28515967 0.30564809\n",
      " 0.30396994 0.29963682 0.30189105 0.29938635 0.30226675 0.30294302\n",
      " 0.30474821 0.30659804 0.30839881 0.31022012]\n",
      "4 day_input [[0.31209606]]\n",
      "5 day_input [0.20185348 0.20758923 0.20788979 0.20796493 0.21089543 0.21417658\n",
      " 0.21054477 0.20047589 0.20824045 0.2082655  0.20901691 0.2115216\n",
      " 0.21392611 0.21838447 0.21918597 0.22299311 0.21951158 0.2255479\n",
      " 0.2161052  0.25124609 0.26607389 0.26900438 0.26462116 0.2750908\n",
      " 0.26912962 0.25758297 0.25209768 0.25372574 0.2560551  0.26652473\n",
      " 0.26865373 0.25993738 0.27529117 0.2841077  0.28731371 0.29931121\n",
      " 0.30301816 0.3051722  0.31594239 0.30239198 0.30983093 0.31949906\n",
      " 0.32055103 0.30567314 0.29390106 0.29422668 0.29335003 0.29597996\n",
      " 0.27977458 0.27714465 0.27832185 0.27902317 0.2804258  0.2886412\n",
      " 0.27932373 0.28308078 0.25655604 0.25144646 0.25793363 0.26667502\n",
      " 0.27401378 0.27724483 0.2866124  0.28773951 0.2952536  0.29858485\n",
      " 0.2981841  0.29973701 0.29946149 0.29477771 0.30056356 0.30141515\n",
      " 0.30354415 0.29968691 0.30795241 0.3059737  0.29036944 0.28556043\n",
      " 0.28939261 0.28548528 0.28571071 0.28370695 0.29009393 0.29036944\n",
      " 0.28969317 0.27421415 0.27539136 0.28515967 0.30564809 0.30396994\n",
      " 0.29963682 0.30189105 0.29938635 0.30226675 0.30294302 0.30474821\n",
      " 0.30659804 0.30839881 0.31022012 0.31209606]\n",
      "5 day_input [[0.31403783]]\n",
      "6 day_input [0.20758923 0.20788979 0.20796493 0.21089543 0.21417658 0.21054477\n",
      " 0.20047589 0.20824045 0.2082655  0.20901691 0.2115216  0.21392611\n",
      " 0.21838447 0.21918597 0.22299311 0.21951158 0.2255479  0.2161052\n",
      " 0.25124609 0.26607389 0.26900438 0.26462116 0.2750908  0.26912962\n",
      " 0.25758297 0.25209768 0.25372574 0.2560551  0.26652473 0.26865373\n",
      " 0.25993738 0.27529117 0.2841077  0.28731371 0.29931121 0.30301816\n",
      " 0.3051722  0.31594239 0.30239198 0.30983093 0.31949906 0.32055103\n",
      " 0.30567314 0.29390106 0.29422668 0.29335003 0.29597996 0.27977458\n",
      " 0.27714465 0.27832185 0.27902317 0.2804258  0.2886412  0.27932373\n",
      " 0.28308078 0.25655604 0.25144646 0.25793363 0.26667502 0.27401378\n",
      " 0.27724483 0.2866124  0.28773951 0.2952536  0.29858485 0.2981841\n",
      " 0.29973701 0.29946149 0.29477771 0.30056356 0.30141515 0.30354415\n",
      " 0.29968691 0.30795241 0.3059737  0.29036944 0.28556043 0.28939261\n",
      " 0.28548528 0.28571071 0.28370695 0.29009393 0.29036944 0.28969317\n",
      " 0.27421415 0.27539136 0.28515967 0.30564809 0.30396994 0.29963682\n",
      " 0.30189105 0.29938635 0.30226675 0.30294302 0.30474821 0.30659804\n",
      " 0.30839881 0.31022012 0.31209606 0.31403783]\n",
      "6 day_input [[0.31604353]]\n",
      "7 day_input [0.20788979 0.20796493 0.21089543 0.21417658 0.21054477 0.20047589\n",
      " 0.20824045 0.2082655  0.20901691 0.2115216  0.21392611 0.21838447\n",
      " 0.21918597 0.22299311 0.21951158 0.2255479  0.2161052  0.25124609\n",
      " 0.26607389 0.26900438 0.26462116 0.2750908  0.26912962 0.25758297\n",
      " 0.25209768 0.25372574 0.2560551  0.26652473 0.26865373 0.25993738\n",
      " 0.27529117 0.2841077  0.28731371 0.29931121 0.30301816 0.3051722\n",
      " 0.31594239 0.30239198 0.30983093 0.31949906 0.32055103 0.30567314\n",
      " 0.29390106 0.29422668 0.29335003 0.29597996 0.27977458 0.27714465\n",
      " 0.27832185 0.27902317 0.2804258  0.2886412  0.27932373 0.28308078\n",
      " 0.25655604 0.25144646 0.25793363 0.26667502 0.27401378 0.27724483\n",
      " 0.2866124  0.28773951 0.2952536  0.29858485 0.2981841  0.29973701\n",
      " 0.29946149 0.29477771 0.30056356 0.30141515 0.30354415 0.29968691\n",
      " 0.30795241 0.3059737  0.29036944 0.28556043 0.28939261 0.28548528\n",
      " 0.28571071 0.28370695 0.29009393 0.29036944 0.28969317 0.27421415\n",
      " 0.27539136 0.28515967 0.30564809 0.30396994 0.29963682 0.30189105\n",
      " 0.29938635 0.30226675 0.30294302 0.30474821 0.30659804 0.30839881\n",
      " 0.31022012 0.31209606 0.31403783 0.31604353]\n",
      "7 day_input [[0.3181045]]\n",
      "8 day_input [0.20796493 0.21089543 0.21417658 0.21054477 0.20047589 0.20824045\n",
      " 0.2082655  0.20901691 0.2115216  0.21392611 0.21838447 0.21918597\n",
      " 0.22299311 0.21951158 0.2255479  0.2161052  0.25124609 0.26607389\n",
      " 0.26900438 0.26462116 0.2750908  0.26912962 0.25758297 0.25209768\n",
      " 0.25372574 0.2560551  0.26652473 0.26865373 0.25993738 0.27529117\n",
      " 0.2841077  0.28731371 0.29931121 0.30301816 0.3051722  0.31594239\n",
      " 0.30239198 0.30983093 0.31949906 0.32055103 0.30567314 0.29390106\n",
      " 0.29422668 0.29335003 0.29597996 0.27977458 0.27714465 0.27832185\n",
      " 0.27902317 0.2804258  0.2886412  0.27932373 0.28308078 0.25655604\n",
      " 0.25144646 0.25793363 0.26667502 0.27401378 0.27724483 0.2866124\n",
      " 0.28773951 0.2952536  0.29858485 0.2981841  0.29973701 0.29946149\n",
      " 0.29477771 0.30056356 0.30141515 0.30354415 0.29968691 0.30795241\n",
      " 0.3059737  0.29036944 0.28556043 0.28939261 0.28548528 0.28571071\n",
      " 0.28370695 0.29009393 0.29036944 0.28969317 0.27421415 0.27539136\n",
      " 0.28515967 0.30564809 0.30396994 0.29963682 0.30189105 0.29938635\n",
      " 0.30226675 0.30294302 0.30474821 0.30659804 0.30839881 0.31022012\n",
      " 0.31209606 0.31403783 0.31604353 0.31810451]\n"
     ]
    },
    {
     "name": "stdout",
     "output_type": "stream",
     "text": [
      "8 day_input [[0.32020873]]\n",
      "9 day_input [0.21089543 0.21417658 0.21054477 0.20047589 0.20824045 0.2082655\n",
      " 0.20901691 0.2115216  0.21392611 0.21838447 0.21918597 0.22299311\n",
      " 0.21951158 0.2255479  0.2161052  0.25124609 0.26607389 0.26900438\n",
      " 0.26462116 0.2750908  0.26912962 0.25758297 0.25209768 0.25372574\n",
      " 0.2560551  0.26652473 0.26865373 0.25993738 0.27529117 0.2841077\n",
      " 0.28731371 0.29931121 0.30301816 0.3051722  0.31594239 0.30239198\n",
      " 0.30983093 0.31949906 0.32055103 0.30567314 0.29390106 0.29422668\n",
      " 0.29335003 0.29597996 0.27977458 0.27714465 0.27832185 0.27902317\n",
      " 0.2804258  0.2886412  0.27932373 0.28308078 0.25655604 0.25144646\n",
      " 0.25793363 0.26667502 0.27401378 0.27724483 0.2866124  0.28773951\n",
      " 0.2952536  0.29858485 0.2981841  0.29973701 0.29946149 0.29477771\n",
      " 0.30056356 0.30141515 0.30354415 0.29968691 0.30795241 0.3059737\n",
      " 0.29036944 0.28556043 0.28939261 0.28548528 0.28571071 0.28370695\n",
      " 0.29009393 0.29036944 0.28969317 0.27421415 0.27539136 0.28515967\n",
      " 0.30564809 0.30396994 0.29963682 0.30189105 0.29938635 0.30226675\n",
      " 0.30294302 0.30474821 0.30659804 0.30839881 0.31022012 0.31209606\n",
      " 0.31403783 0.31604353 0.31810451 0.32020873]\n",
      "9 day_input [[0.32234338]]\n",
      "10 day_input [0.21417658 0.21054477 0.20047589 0.20824045 0.2082655  0.20901691\n",
      " 0.2115216  0.21392611 0.21838447 0.21918597 0.22299311 0.21951158\n",
      " 0.2255479  0.2161052  0.25124609 0.26607389 0.26900438 0.26462116\n",
      " 0.2750908  0.26912962 0.25758297 0.25209768 0.25372574 0.2560551\n",
      " 0.26652473 0.26865373 0.25993738 0.27529117 0.2841077  0.28731371\n",
      " 0.29931121 0.30301816 0.3051722  0.31594239 0.30239198 0.30983093\n",
      " 0.31949906 0.32055103 0.30567314 0.29390106 0.29422668 0.29335003\n",
      " 0.29597996 0.27977458 0.27714465 0.27832185 0.27902317 0.2804258\n",
      " 0.2886412  0.27932373 0.28308078 0.25655604 0.25144646 0.25793363\n",
      " 0.26667502 0.27401378 0.27724483 0.2866124  0.28773951 0.2952536\n",
      " 0.29858485 0.2981841  0.29973701 0.29946149 0.29477771 0.30056356\n",
      " 0.30141515 0.30354415 0.29968691 0.30795241 0.3059737  0.29036944\n",
      " 0.28556043 0.28939261 0.28548528 0.28571071 0.28370695 0.29009393\n",
      " 0.29036944 0.28969317 0.27421415 0.27539136 0.28515967 0.30564809\n",
      " 0.30396994 0.29963682 0.30189105 0.29938635 0.30226675 0.30294302\n",
      " 0.30474821 0.30659804 0.30839881 0.31022012 0.31209606 0.31403783\n",
      " 0.31604353 0.31810451 0.32020873 0.32234338]\n",
      "10 day_input [[0.32449535]]\n",
      "11 day_input [0.21054477 0.20047589 0.20824045 0.2082655  0.20901691 0.2115216\n",
      " 0.21392611 0.21838447 0.21918597 0.22299311 0.21951158 0.2255479\n",
      " 0.2161052  0.25124609 0.26607389 0.26900438 0.26462116 0.2750908\n",
      " 0.26912962 0.25758297 0.25209768 0.25372574 0.2560551  0.26652473\n",
      " 0.26865373 0.25993738 0.27529117 0.2841077  0.28731371 0.29931121\n",
      " 0.30301816 0.3051722  0.31594239 0.30239198 0.30983093 0.31949906\n",
      " 0.32055103 0.30567314 0.29390106 0.29422668 0.29335003 0.29597996\n",
      " 0.27977458 0.27714465 0.27832185 0.27902317 0.2804258  0.2886412\n",
      " 0.27932373 0.28308078 0.25655604 0.25144646 0.25793363 0.26667502\n",
      " 0.27401378 0.27724483 0.2866124  0.28773951 0.2952536  0.29858485\n",
      " 0.2981841  0.29973701 0.29946149 0.29477771 0.30056356 0.30141515\n",
      " 0.30354415 0.29968691 0.30795241 0.3059737  0.29036944 0.28556043\n",
      " 0.28939261 0.28548528 0.28571071 0.28370695 0.29009393 0.29036944\n",
      " 0.28969317 0.27421415 0.27539136 0.28515967 0.30564809 0.30396994\n",
      " 0.29963682 0.30189105 0.29938635 0.30226675 0.30294302 0.30474821\n",
      " 0.30659804 0.30839881 0.31022012 0.31209606 0.31403783 0.31604353\n",
      " 0.31810451 0.32020873 0.32234338 0.32449535]\n",
      "11 day_input [[0.32665268]]\n",
      "12 day_input [0.20047589 0.20824045 0.2082655  0.20901691 0.2115216  0.21392611\n",
      " 0.21838447 0.21918597 0.22299311 0.21951158 0.2255479  0.2161052\n",
      " 0.25124609 0.26607389 0.26900438 0.26462116 0.2750908  0.26912962\n",
      " 0.25758297 0.25209768 0.25372574 0.2560551  0.26652473 0.26865373\n",
      " 0.25993738 0.27529117 0.2841077  0.28731371 0.29931121 0.30301816\n",
      " 0.3051722  0.31594239 0.30239198 0.30983093 0.31949906 0.32055103\n",
      " 0.30567314 0.29390106 0.29422668 0.29335003 0.29597996 0.27977458\n",
      " 0.27714465 0.27832185 0.27902317 0.2804258  0.2886412  0.27932373\n",
      " 0.28308078 0.25655604 0.25144646 0.25793363 0.26667502 0.27401378\n",
      " 0.27724483 0.2866124  0.28773951 0.2952536  0.29858485 0.2981841\n",
      " 0.29973701 0.29946149 0.29477771 0.30056356 0.30141515 0.30354415\n",
      " 0.29968691 0.30795241 0.3059737  0.29036944 0.28556043 0.28939261\n",
      " 0.28548528 0.28571071 0.28370695 0.29009393 0.29036944 0.28969317\n",
      " 0.27421415 0.27539136 0.28515967 0.30564809 0.30396994 0.29963682\n",
      " 0.30189105 0.29938635 0.30226675 0.30294302 0.30474821 0.30659804\n",
      " 0.30839881 0.31022012 0.31209606 0.31403783 0.31604353 0.31810451\n",
      " 0.32020873 0.32234338 0.32449535 0.32665268]\n",
      "12 day_input [[0.32880506]]\n",
      "13 day_input [0.20824045 0.2082655  0.20901691 0.2115216  0.21392611 0.21838447\n",
      " 0.21918597 0.22299311 0.21951158 0.2255479  0.2161052  0.25124609\n",
      " 0.26607389 0.26900438 0.26462116 0.2750908  0.26912962 0.25758297\n",
      " 0.25209768 0.25372574 0.2560551  0.26652473 0.26865373 0.25993738\n",
      " 0.27529117 0.2841077  0.28731371 0.29931121 0.30301816 0.3051722\n",
      " 0.31594239 0.30239198 0.30983093 0.31949906 0.32055103 0.30567314\n",
      " 0.29390106 0.29422668 0.29335003 0.29597996 0.27977458 0.27714465\n",
      " 0.27832185 0.27902317 0.2804258  0.2886412  0.27932373 0.28308078\n",
      " 0.25655604 0.25144646 0.25793363 0.26667502 0.27401378 0.27724483\n",
      " 0.2866124  0.28773951 0.2952536  0.29858485 0.2981841  0.29973701\n",
      " 0.29946149 0.29477771 0.30056356 0.30141515 0.30354415 0.29968691\n",
      " 0.30795241 0.3059737  0.29036944 0.28556043 0.28939261 0.28548528\n",
      " 0.28571071 0.28370695 0.29009393 0.29036944 0.28969317 0.27421415\n",
      " 0.27539136 0.28515967 0.30564809 0.30396994 0.29963682 0.30189105\n",
      " 0.29938635 0.30226675 0.30294302 0.30474821 0.30659804 0.30839881\n",
      " 0.31022012 0.31209606 0.31403783 0.31604353 0.31810451 0.32020873\n",
      " 0.32234338 0.32449535 0.32665268 0.32880506]\n",
      "13 day_input [[0.3309443]]\n",
      "14 day_input [0.2082655  0.20901691 0.2115216  0.21392611 0.21838447 0.21918597\n",
      " 0.22299311 0.21951158 0.2255479  0.2161052  0.25124609 0.26607389\n",
      " 0.26900438 0.26462116 0.2750908  0.26912962 0.25758297 0.25209768\n",
      " 0.25372574 0.2560551  0.26652473 0.26865373 0.25993738 0.27529117\n",
      " 0.2841077  0.28731371 0.29931121 0.30301816 0.3051722  0.31594239\n",
      " 0.30239198 0.30983093 0.31949906 0.32055103 0.30567314 0.29390106\n",
      " 0.29422668 0.29335003 0.29597996 0.27977458 0.27714465 0.27832185\n",
      " 0.27902317 0.2804258  0.2886412  0.27932373 0.28308078 0.25655604\n",
      " 0.25144646 0.25793363 0.26667502 0.27401378 0.27724483 0.2866124\n",
      " 0.28773951 0.2952536  0.29858485 0.2981841  0.29973701 0.29946149\n",
      " 0.29477771 0.30056356 0.30141515 0.30354415 0.29968691 0.30795241\n",
      " 0.3059737  0.29036944 0.28556043 0.28939261 0.28548528 0.28571071\n",
      " 0.28370695 0.29009393 0.29036944 0.28969317 0.27421415 0.27539136\n",
      " 0.28515967 0.30564809 0.30396994 0.29963682 0.30189105 0.29938635\n",
      " 0.30226675 0.30294302 0.30474821 0.30659804 0.30839881 0.31022012\n",
      " 0.31209606 0.31403783 0.31604353 0.31810451 0.32020873 0.32234338\n",
      " 0.32449535 0.32665268 0.32880506 0.3309443 ]\n",
      "14 day_input [[0.33306348]]\n",
      "15 day_input [0.20901691 0.2115216  0.21392611 0.21838447 0.21918597 0.22299311\n",
      " 0.21951158 0.2255479  0.2161052  0.25124609 0.26607389 0.26900438\n",
      " 0.26462116 0.2750908  0.26912962 0.25758297 0.25209768 0.25372574\n",
      " 0.2560551  0.26652473 0.26865373 0.25993738 0.27529117 0.2841077\n",
      " 0.28731371 0.29931121 0.30301816 0.3051722  0.31594239 0.30239198\n",
      " 0.30983093 0.31949906 0.32055103 0.30567314 0.29390106 0.29422668\n",
      " 0.29335003 0.29597996 0.27977458 0.27714465 0.27832185 0.27902317\n",
      " 0.2804258  0.2886412  0.27932373 0.28308078 0.25655604 0.25144646\n",
      " 0.25793363 0.26667502 0.27401378 0.27724483 0.2866124  0.28773951\n",
      " 0.2952536  0.29858485 0.2981841  0.29973701 0.29946149 0.29477771\n",
      " 0.30056356 0.30141515 0.30354415 0.29968691 0.30795241 0.3059737\n",
      " 0.29036944 0.28556043 0.28939261 0.28548528 0.28571071 0.28370695\n",
      " 0.29009393 0.29036944 0.28969317 0.27421415 0.27539136 0.28515967\n",
      " 0.30564809 0.30396994 0.29963682 0.30189105 0.29938635 0.30226675\n",
      " 0.30294302 0.30474821 0.30659804 0.30839881 0.31022012 0.31209606\n",
      " 0.31403783 0.31604353 0.31810451 0.32020873 0.32234338 0.32449535\n",
      " 0.32665268 0.32880506 0.3309443  0.33306348]\n",
      "15 day_input [[0.33515877]]\n",
      "16 day_input [0.2115216  0.21392611 0.21838447 0.21918597 0.22299311 0.21951158\n",
      " 0.2255479  0.2161052  0.25124609 0.26607389 0.26900438 0.26462116\n",
      " 0.2750908  0.26912962 0.25758297 0.25209768 0.25372574 0.2560551\n",
      " 0.26652473 0.26865373 0.25993738 0.27529117 0.2841077  0.28731371\n",
      " 0.29931121 0.30301816 0.3051722  0.31594239 0.30239198 0.30983093\n",
      " 0.31949906 0.32055103 0.30567314 0.29390106 0.29422668 0.29335003\n",
      " 0.29597996 0.27977458 0.27714465 0.27832185 0.27902317 0.2804258\n",
      " 0.2886412  0.27932373 0.28308078 0.25655604 0.25144646 0.25793363\n",
      " 0.26667502 0.27401378 0.27724483 0.2866124  0.28773951 0.2952536\n",
      " 0.29858485 0.2981841  0.29973701 0.29946149 0.29477771 0.30056356\n",
      " 0.30141515 0.30354415 0.29968691 0.30795241 0.3059737  0.29036944\n",
      " 0.28556043 0.28939261 0.28548528 0.28571071 0.28370695 0.29009393\n",
      " 0.29036944 0.28969317 0.27421415 0.27539136 0.28515967 0.30564809\n",
      " 0.30396994 0.29963682 0.30189105 0.29938635 0.30226675 0.30294302\n",
      " 0.30474821 0.30659804 0.30839881 0.31022012 0.31209606 0.31403783\n",
      " 0.31604353 0.31810451 0.32020873 0.32234338 0.32449535 0.32665268\n",
      " 0.32880506 0.3309443  0.33306348 0.33515877]\n"
     ]
    },
    {
     "name": "stdout",
     "output_type": "stream",
     "text": [
      "16 day_input [[0.33722767]]\n",
      "17 day_input [0.21392611 0.21838447 0.21918597 0.22299311 0.21951158 0.2255479\n",
      " 0.2161052  0.25124609 0.26607389 0.26900438 0.26462116 0.2750908\n",
      " 0.26912962 0.25758297 0.25209768 0.25372574 0.2560551  0.26652473\n",
      " 0.26865373 0.25993738 0.27529117 0.2841077  0.28731371 0.29931121\n",
      " 0.30301816 0.3051722  0.31594239 0.30239198 0.30983093 0.31949906\n",
      " 0.32055103 0.30567314 0.29390106 0.29422668 0.29335003 0.29597996\n",
      " 0.27977458 0.27714465 0.27832185 0.27902317 0.2804258  0.2886412\n",
      " 0.27932373 0.28308078 0.25655604 0.25144646 0.25793363 0.26667502\n",
      " 0.27401378 0.27724483 0.2866124  0.28773951 0.2952536  0.29858485\n",
      " 0.2981841  0.29973701 0.29946149 0.29477771 0.30056356 0.30141515\n",
      " 0.30354415 0.29968691 0.30795241 0.3059737  0.29036944 0.28556043\n",
      " 0.28939261 0.28548528 0.28571071 0.28370695 0.29009393 0.29036944\n",
      " 0.28969317 0.27421415 0.27539136 0.28515967 0.30564809 0.30396994\n",
      " 0.29963682 0.30189105 0.29938635 0.30226675 0.30294302 0.30474821\n",
      " 0.30659804 0.30839881 0.31022012 0.31209606 0.31403783 0.31604353\n",
      " 0.31810451 0.32020873 0.32234338 0.32449535 0.32665268 0.32880506\n",
      " 0.3309443  0.33306348 0.33515877 0.33722767]\n",
      "17 day_input [[0.33926964]]\n",
      "18 day_input [0.21838447 0.21918597 0.22299311 0.21951158 0.2255479  0.2161052\n",
      " 0.25124609 0.26607389 0.26900438 0.26462116 0.2750908  0.26912962\n",
      " 0.25758297 0.25209768 0.25372574 0.2560551  0.26652473 0.26865373\n",
      " 0.25993738 0.27529117 0.2841077  0.28731371 0.29931121 0.30301816\n",
      " 0.3051722  0.31594239 0.30239198 0.30983093 0.31949906 0.32055103\n",
      " 0.30567314 0.29390106 0.29422668 0.29335003 0.29597996 0.27977458\n",
      " 0.27714465 0.27832185 0.27902317 0.2804258  0.2886412  0.27932373\n",
      " 0.28308078 0.25655604 0.25144646 0.25793363 0.26667502 0.27401378\n",
      " 0.27724483 0.2866124  0.28773951 0.2952536  0.29858485 0.2981841\n",
      " 0.29973701 0.29946149 0.29477771 0.30056356 0.30141515 0.30354415\n",
      " 0.29968691 0.30795241 0.3059737  0.29036944 0.28556043 0.28939261\n",
      " 0.28548528 0.28571071 0.28370695 0.29009393 0.29036944 0.28969317\n",
      " 0.27421415 0.27539136 0.28515967 0.30564809 0.30396994 0.29963682\n",
      " 0.30189105 0.29938635 0.30226675 0.30294302 0.30474821 0.30659804\n",
      " 0.30839881 0.31022012 0.31209606 0.31403783 0.31604353 0.31810451\n",
      " 0.32020873 0.32234338 0.32449535 0.32665268 0.32880506 0.3309443\n",
      " 0.33306348 0.33515877 0.33722767 0.33926964]\n",
      "18 day_input [[0.3412859]]\n",
      "19 day_input [0.21918597 0.22299311 0.21951158 0.2255479  0.2161052  0.25124609\n",
      " 0.26607389 0.26900438 0.26462116 0.2750908  0.26912962 0.25758297\n",
      " 0.25209768 0.25372574 0.2560551  0.26652473 0.26865373 0.25993738\n",
      " 0.27529117 0.2841077  0.28731371 0.29931121 0.30301816 0.3051722\n",
      " 0.31594239 0.30239198 0.30983093 0.31949906 0.32055103 0.30567314\n",
      " 0.29390106 0.29422668 0.29335003 0.29597996 0.27977458 0.27714465\n",
      " 0.27832185 0.27902317 0.2804258  0.2886412  0.27932373 0.28308078\n",
      " 0.25655604 0.25144646 0.25793363 0.26667502 0.27401378 0.27724483\n",
      " 0.2866124  0.28773951 0.2952536  0.29858485 0.2981841  0.29973701\n",
      " 0.29946149 0.29477771 0.30056356 0.30141515 0.30354415 0.29968691\n",
      " 0.30795241 0.3059737  0.29036944 0.28556043 0.28939261 0.28548528\n",
      " 0.28571071 0.28370695 0.29009393 0.29036944 0.28969317 0.27421415\n",
      " 0.27539136 0.28515967 0.30564809 0.30396994 0.29963682 0.30189105\n",
      " 0.29938635 0.30226675 0.30294302 0.30474821 0.30659804 0.30839881\n",
      " 0.31022012 0.31209606 0.31403783 0.31604353 0.31810451 0.32020873\n",
      " 0.32234338 0.32449535 0.32665268 0.32880506 0.3309443  0.33306348\n",
      " 0.33515877 0.33722767 0.33926964 0.34128591]\n",
      "19 day_input [[0.3432784]]\n",
      "20 day_input [0.22299311 0.21951158 0.2255479  0.2161052  0.25124609 0.26607389\n",
      " 0.26900438 0.26462116 0.2750908  0.26912962 0.25758297 0.25209768\n",
      " 0.25372574 0.2560551  0.26652473 0.26865373 0.25993738 0.27529117\n",
      " 0.2841077  0.28731371 0.29931121 0.30301816 0.3051722  0.31594239\n",
      " 0.30239198 0.30983093 0.31949906 0.32055103 0.30567314 0.29390106\n",
      " 0.29422668 0.29335003 0.29597996 0.27977458 0.27714465 0.27832185\n",
      " 0.27902317 0.2804258  0.2886412  0.27932373 0.28308078 0.25655604\n",
      " 0.25144646 0.25793363 0.26667502 0.27401378 0.27724483 0.2866124\n",
      " 0.28773951 0.2952536  0.29858485 0.2981841  0.29973701 0.29946149\n",
      " 0.29477771 0.30056356 0.30141515 0.30354415 0.29968691 0.30795241\n",
      " 0.3059737  0.29036944 0.28556043 0.28939261 0.28548528 0.28571071\n",
      " 0.28370695 0.29009393 0.29036944 0.28969317 0.27421415 0.27539136\n",
      " 0.28515967 0.30564809 0.30396994 0.29963682 0.30189105 0.29938635\n",
      " 0.30226675 0.30294302 0.30474821 0.30659804 0.30839881 0.31022012\n",
      " 0.31209606 0.31403783 0.31604353 0.31810451 0.32020873 0.32234338\n",
      " 0.32449535 0.32665268 0.32880506 0.3309443  0.33306348 0.33515877\n",
      " 0.33722767 0.33926964 0.34128591 0.34327841]\n",
      "20 day_input [[0.34525052]]\n",
      "21 day_input [0.21951158 0.2255479  0.2161052  0.25124609 0.26607389 0.26900438\n",
      " 0.26462116 0.2750908  0.26912962 0.25758297 0.25209768 0.25372574\n",
      " 0.2560551  0.26652473 0.26865373 0.25993738 0.27529117 0.2841077\n",
      " 0.28731371 0.29931121 0.30301816 0.3051722  0.31594239 0.30239198\n",
      " 0.30983093 0.31949906 0.32055103 0.30567314 0.29390106 0.29422668\n",
      " 0.29335003 0.29597996 0.27977458 0.27714465 0.27832185 0.27902317\n",
      " 0.2804258  0.2886412  0.27932373 0.28308078 0.25655604 0.25144646\n",
      " 0.25793363 0.26667502 0.27401378 0.27724483 0.2866124  0.28773951\n",
      " 0.2952536  0.29858485 0.2981841  0.29973701 0.29946149 0.29477771\n",
      " 0.30056356 0.30141515 0.30354415 0.29968691 0.30795241 0.3059737\n",
      " 0.29036944 0.28556043 0.28939261 0.28548528 0.28571071 0.28370695\n",
      " 0.29009393 0.29036944 0.28969317 0.27421415 0.27539136 0.28515967\n",
      " 0.30564809 0.30396994 0.29963682 0.30189105 0.29938635 0.30226675\n",
      " 0.30294302 0.30474821 0.30659804 0.30839881 0.31022012 0.31209606\n",
      " 0.31403783 0.31604353 0.31810451 0.32020873 0.32234338 0.32449535\n",
      " 0.32665268 0.32880506 0.3309443  0.33306348 0.33515877 0.33722767\n",
      " 0.33926964 0.34128591 0.34327841 0.34525052]\n",
      "21 day_input [[0.34720567]]\n",
      "22 day_input [0.2255479  0.2161052  0.25124609 0.26607389 0.26900438 0.26462116\n",
      " 0.2750908  0.26912962 0.25758297 0.25209768 0.25372574 0.2560551\n",
      " 0.26652473 0.26865373 0.25993738 0.27529117 0.2841077  0.28731371\n",
      " 0.29931121 0.30301816 0.3051722  0.31594239 0.30239198 0.30983093\n",
      " 0.31949906 0.32055103 0.30567314 0.29390106 0.29422668 0.29335003\n",
      " 0.29597996 0.27977458 0.27714465 0.27832185 0.27902317 0.2804258\n",
      " 0.2886412  0.27932373 0.28308078 0.25655604 0.25144646 0.25793363\n",
      " 0.26667502 0.27401378 0.27724483 0.2866124  0.28773951 0.2952536\n",
      " 0.29858485 0.2981841  0.29973701 0.29946149 0.29477771 0.30056356\n",
      " 0.30141515 0.30354415 0.29968691 0.30795241 0.3059737  0.29036944\n",
      " 0.28556043 0.28939261 0.28548528 0.28571071 0.28370695 0.29009393\n",
      " 0.29036944 0.28969317 0.27421415 0.27539136 0.28515967 0.30564809\n",
      " 0.30396994 0.29963682 0.30189105 0.29938635 0.30226675 0.30294302\n",
      " 0.30474821 0.30659804 0.30839881 0.31022012 0.31209606 0.31403783\n",
      " 0.31604353 0.31810451 0.32020873 0.32234338 0.32449535 0.32665268\n",
      " 0.32880506 0.3309443  0.33306348 0.33515877 0.33722767 0.33926964\n",
      " 0.34128591 0.34327841 0.34525052 0.34720567]\n",
      "22 day_input [[0.34914836]]\n",
      "23 day_input [0.2161052  0.25124609 0.26607389 0.26900438 0.26462116 0.2750908\n",
      " 0.26912962 0.25758297 0.25209768 0.25372574 0.2560551  0.26652473\n",
      " 0.26865373 0.25993738 0.27529117 0.2841077  0.28731371 0.29931121\n",
      " 0.30301816 0.3051722  0.31594239 0.30239198 0.30983093 0.31949906\n",
      " 0.32055103 0.30567314 0.29390106 0.29422668 0.29335003 0.29597996\n",
      " 0.27977458 0.27714465 0.27832185 0.27902317 0.2804258  0.2886412\n",
      " 0.27932373 0.28308078 0.25655604 0.25144646 0.25793363 0.26667502\n",
      " 0.27401378 0.27724483 0.2866124  0.28773951 0.2952536  0.29858485\n",
      " 0.2981841  0.29973701 0.29946149 0.29477771 0.30056356 0.30141515\n",
      " 0.30354415 0.29968691 0.30795241 0.3059737  0.29036944 0.28556043\n",
      " 0.28939261 0.28548528 0.28571071 0.28370695 0.29009393 0.29036944\n",
      " 0.28969317 0.27421415 0.27539136 0.28515967 0.30564809 0.30396994\n",
      " 0.29963682 0.30189105 0.29938635 0.30226675 0.30294302 0.30474821\n",
      " 0.30659804 0.30839881 0.31022012 0.31209606 0.31403783 0.31604353\n",
      " 0.31810451 0.32020873 0.32234338 0.32449535 0.32665268 0.32880506\n",
      " 0.3309443  0.33306348 0.33515877 0.33722767 0.33926964 0.34128591\n",
      " 0.34327841 0.34525052 0.34720567 0.34914836]\n",
      "23 day_input [[0.35108283]]\n",
      "24 day_input [0.25124609 0.26607389 0.26900438 0.26462116 0.2750908  0.26912962\n",
      " 0.25758297 0.25209768 0.25372574 0.2560551  0.26652473 0.26865373\n",
      " 0.25993738 0.27529117 0.2841077  0.28731371 0.29931121 0.30301816\n",
      " 0.3051722  0.31594239 0.30239198 0.30983093 0.31949906 0.32055103\n",
      " 0.30567314 0.29390106 0.29422668 0.29335003 0.29597996 0.27977458\n",
      " 0.27714465 0.27832185 0.27902317 0.2804258  0.2886412  0.27932373\n",
      " 0.28308078 0.25655604 0.25144646 0.25793363 0.26667502 0.27401378\n",
      " 0.27724483 0.2866124  0.28773951 0.2952536  0.29858485 0.2981841\n",
      " 0.29973701 0.29946149 0.29477771 0.30056356 0.30141515 0.30354415\n",
      " 0.29968691 0.30795241 0.3059737  0.29036944 0.28556043 0.28939261\n",
      " 0.28548528 0.28571071 0.28370695 0.29009393 0.29036944 0.28969317\n",
      " 0.27421415 0.27539136 0.28515967 0.30564809 0.30396994 0.29963682\n",
      " 0.30189105 0.29938635 0.30226675 0.30294302 0.30474821 0.30659804\n",
      " 0.30839881 0.31022012 0.31209606 0.31403783 0.31604353 0.31810451\n",
      " 0.32020873 0.32234338 0.32449535 0.32665268 0.32880506 0.3309443\n",
      " 0.33306348 0.33515877 0.33722767 0.33926964 0.34128591 0.34327841\n",
      " 0.34525052 0.34720567 0.34914836 0.35108283]\n",
      "24 day_input [[0.35301378]]\n",
      "25 day_input [0.26607389 0.26900438 0.26462116 0.2750908  0.26912962 0.25758297\n",
      " 0.25209768 0.25372574 0.2560551  0.26652473 0.26865373 0.25993738\n",
      " 0.27529117 0.2841077  0.28731371 0.29931121 0.30301816 0.3051722\n",
      " 0.31594239 0.30239198 0.30983093 0.31949906 0.32055103 0.30567314\n",
      " 0.29390106 0.29422668 0.29335003 0.29597996 0.27977458 0.27714465\n",
      " 0.27832185 0.27902317 0.2804258  0.2886412  0.27932373 0.28308078\n",
      " 0.25655604 0.25144646 0.25793363 0.26667502 0.27401378 0.27724483\n",
      " 0.2866124  0.28773951 0.2952536  0.29858485 0.2981841  0.29973701\n",
      " 0.29946149 0.29477771 0.30056356 0.30141515 0.30354415 0.29968691\n",
      " 0.30795241 0.3059737  0.29036944 0.28556043 0.28939261 0.28548528\n",
      " 0.28571071 0.28370695 0.29009393 0.29036944 0.28969317 0.27421415\n",
      " 0.27539136 0.28515967 0.30564809 0.30396994 0.29963682 0.30189105\n",
      " 0.29938635 0.30226675 0.30294302 0.30474821 0.30659804 0.30839881\n",
      " 0.31022012 0.31209606 0.31403783 0.31604353 0.31810451 0.32020873\n",
      " 0.32234338 0.32449535 0.32665268 0.32880506 0.3309443  0.33306348\n",
      " 0.33515877 0.33722767 0.33926964 0.34128591 0.34327841 0.34525052\n",
      " 0.34720567 0.34914836 0.35108283 0.35301378]\n"
     ]
    },
    {
     "name": "stdout",
     "output_type": "stream",
     "text": [
      "25 day_input [[0.35494438]]\n",
      "26 day_input [0.26900438 0.26462116 0.2750908  0.26912962 0.25758297 0.25209768\n",
      " 0.25372574 0.2560551  0.26652473 0.26865373 0.25993738 0.27529117\n",
      " 0.2841077  0.28731371 0.29931121 0.30301816 0.3051722  0.31594239\n",
      " 0.30239198 0.30983093 0.31949906 0.32055103 0.30567314 0.29390106\n",
      " 0.29422668 0.29335003 0.29597996 0.27977458 0.27714465 0.27832185\n",
      " 0.27902317 0.2804258  0.2886412  0.27932373 0.28308078 0.25655604\n",
      " 0.25144646 0.25793363 0.26667502 0.27401378 0.27724483 0.2866124\n",
      " 0.28773951 0.2952536  0.29858485 0.2981841  0.29973701 0.29946149\n",
      " 0.29477771 0.30056356 0.30141515 0.30354415 0.29968691 0.30795241\n",
      " 0.3059737  0.29036944 0.28556043 0.28939261 0.28548528 0.28571071\n",
      " 0.28370695 0.29009393 0.29036944 0.28969317 0.27421415 0.27539136\n",
      " 0.28515967 0.30564809 0.30396994 0.29963682 0.30189105 0.29938635\n",
      " 0.30226675 0.30294302 0.30474821 0.30659804 0.30839881 0.31022012\n",
      " 0.31209606 0.31403783 0.31604353 0.31810451 0.32020873 0.32234338\n",
      " 0.32449535 0.32665268 0.32880506 0.3309443  0.33306348 0.33515877\n",
      " 0.33722767 0.33926964 0.34128591 0.34327841 0.34525052 0.34720567\n",
      " 0.34914836 0.35108283 0.35301378 0.35494438]\n",
      "26 day_input [[0.35687977]]\n",
      "27 day_input [0.26462116 0.2750908  0.26912962 0.25758297 0.25209768 0.25372574\n",
      " 0.2560551  0.26652473 0.26865373 0.25993738 0.27529117 0.2841077\n",
      " 0.28731371 0.29931121 0.30301816 0.3051722  0.31594239 0.30239198\n",
      " 0.30983093 0.31949906 0.32055103 0.30567314 0.29390106 0.29422668\n",
      " 0.29335003 0.29597996 0.27977458 0.27714465 0.27832185 0.27902317\n",
      " 0.2804258  0.2886412  0.27932373 0.28308078 0.25655604 0.25144646\n",
      " 0.25793363 0.26667502 0.27401378 0.27724483 0.2866124  0.28773951\n",
      " 0.2952536  0.29858485 0.2981841  0.29973701 0.29946149 0.29477771\n",
      " 0.30056356 0.30141515 0.30354415 0.29968691 0.30795241 0.3059737\n",
      " 0.29036944 0.28556043 0.28939261 0.28548528 0.28571071 0.28370695\n",
      " 0.29009393 0.29036944 0.28969317 0.27421415 0.27539136 0.28515967\n",
      " 0.30564809 0.30396994 0.29963682 0.30189105 0.29938635 0.30226675\n",
      " 0.30294302 0.30474821 0.30659804 0.30839881 0.31022012 0.31209606\n",
      " 0.31403783 0.31604353 0.31810451 0.32020873 0.32234338 0.32449535\n",
      " 0.32665268 0.32880506 0.3309443  0.33306348 0.33515877 0.33722767\n",
      " 0.33926964 0.34128591 0.34327841 0.34525052 0.34720567 0.34914836\n",
      " 0.35108283 0.35301378 0.35494438 0.35687977]\n",
      "27 day_input [[0.3588239]]\n",
      "28 day_input [0.2750908  0.26912962 0.25758297 0.25209768 0.25372574 0.2560551\n",
      " 0.26652473 0.26865373 0.25993738 0.27529117 0.2841077  0.28731371\n",
      " 0.29931121 0.30301816 0.3051722  0.31594239 0.30239198 0.30983093\n",
      " 0.31949906 0.32055103 0.30567314 0.29390106 0.29422668 0.29335003\n",
      " 0.29597996 0.27977458 0.27714465 0.27832185 0.27902317 0.2804258\n",
      " 0.2886412  0.27932373 0.28308078 0.25655604 0.25144646 0.25793363\n",
      " 0.26667502 0.27401378 0.27724483 0.2866124  0.28773951 0.2952536\n",
      " 0.29858485 0.2981841  0.29973701 0.29946149 0.29477771 0.30056356\n",
      " 0.30141515 0.30354415 0.29968691 0.30795241 0.3059737  0.29036944\n",
      " 0.28556043 0.28939261 0.28548528 0.28571071 0.28370695 0.29009393\n",
      " 0.29036944 0.28969317 0.27421415 0.27539136 0.28515967 0.30564809\n",
      " 0.30396994 0.29963682 0.30189105 0.29938635 0.30226675 0.30294302\n",
      " 0.30474821 0.30659804 0.30839881 0.31022012 0.31209606 0.31403783\n",
      " 0.31604353 0.31810451 0.32020873 0.32234338 0.32449535 0.32665268\n",
      " 0.32880506 0.3309443  0.33306348 0.33515877 0.33722767 0.33926964\n",
      " 0.34128591 0.34327841 0.34525052 0.34720567 0.34914836 0.35108283\n",
      " 0.35301378 0.35494438 0.35687977 0.3588239 ]\n",
      "28 day_input [[0.36078104]]\n",
      "29 day_input [0.26912962 0.25758297 0.25209768 0.25372574 0.2560551  0.26652473\n",
      " 0.26865373 0.25993738 0.27529117 0.2841077  0.28731371 0.29931121\n",
      " 0.30301816 0.3051722  0.31594239 0.30239198 0.30983093 0.31949906\n",
      " 0.32055103 0.30567314 0.29390106 0.29422668 0.29335003 0.29597996\n",
      " 0.27977458 0.27714465 0.27832185 0.27902317 0.2804258  0.2886412\n",
      " 0.27932373 0.28308078 0.25655604 0.25144646 0.25793363 0.26667502\n",
      " 0.27401378 0.27724483 0.2866124  0.28773951 0.2952536  0.29858485\n",
      " 0.2981841  0.29973701 0.29946149 0.29477771 0.30056356 0.30141515\n",
      " 0.30354415 0.29968691 0.30795241 0.3059737  0.29036944 0.28556043\n",
      " 0.28939261 0.28548528 0.28571071 0.28370695 0.29009393 0.29036944\n",
      " 0.28969317 0.27421415 0.27539136 0.28515967 0.30564809 0.30396994\n",
      " 0.29963682 0.30189105 0.29938635 0.30226675 0.30294302 0.30474821\n",
      " 0.30659804 0.30839881 0.31022012 0.31209606 0.31403783 0.31604353\n",
      " 0.31810451 0.32020873 0.32234338 0.32449535 0.32665268 0.32880506\n",
      " 0.3309443  0.33306348 0.33515877 0.33722767 0.33926964 0.34128591\n",
      " 0.34327841 0.34525052 0.34720567 0.34914836 0.35108283 0.35301378\n",
      " 0.35494438 0.35687977 0.3588239  0.36078104]\n",
      "29 day_input [[0.36275405]]\n",
      "[0.30474820733070374, 0.306598037481308, 0.3083988130092621, 0.3102201223373413, 0.3120960593223572, 0.31403782963752747, 0.31604352593421936, 0.31810450553894043, 0.32020872831344604, 0.3223433792591095, 0.3244953453540802, 0.3266526758670807, 0.3288050591945648, 0.330944299697876, 0.3330634832382202, 0.3351587653160095, 0.3372276723384857, 0.33926963806152344, 0.34128591418266296, 0.3432784080505371, 0.34525051712989807, 0.34720566868782043, 0.34914836287498474, 0.35108283162117004, 0.3530137836933136, 0.3549443781375885, 0.3568797707557678, 0.35882389545440674, 0.3607810437679291, 0.36275404691696167]\n"
     ]
    }
   ],
   "source": [
    "from numpy import array\n",
    "lst_output = []\n",
    "n_steps = 100\n",
    "i = 0\n",
    "while (i<30):\n",
    "    if (len(temp_input)>100):\n",
    "        x_input = np.array(temp_input[1:])\n",
    "        print(\"{} day_input {}\".format(i,x_input))\n",
    "        x_input = x_input.reshape(1,-1)\n",
    "        x_input = x_input.reshape((1,n_steps,1))\n",
    "        \n",
    "        yhat = model.predict(x_input, verbose=0)\n",
    "\n",
    "        print(\"{} day_input {}\".format(i,yhat))\n",
    "        temp_input.extend(yhat[0].tolist())\n",
    "        temp_input = temp_input[1:]\n",
    "        lst_output.extend(yhat[0].tolist()) \n",
    "        i = i+1\n",
    "    else:\n",
    "        x_input = x_input.reshape((1,n_steps,1))\n",
    "        yhat = model.predict(x_input, verbose=0)\n",
    "\n",
    "        print(yhat[0])\n",
    "        temp_input.extend(yhat[0].tolist())\n",
    "        print(len(temp_input))\n",
    "        lst_output.extend(yhat[0].tolist())\n",
    "        i = i+1\n",
    "print(lst_output)        \n",
    "        "
   ]
  },
  {
   "cell_type": "code",
   "execution_count": 54,
   "id": "e9167b46",
   "metadata": {},
   "outputs": [],
   "source": [
    "day_new = np.arange(1,101)\n",
    "day_pred = np.arange(101,131)"
   ]
  },
  {
   "cell_type": "code",
   "execution_count": 55,
   "id": "f56c6761",
   "metadata": {},
   "outputs": [],
   "source": [
    "import matplotlib.pyplot as plt"
   ]
  },
  {
   "cell_type": "code",
   "execution_count": 56,
   "id": "32d0b947",
   "metadata": {},
   "outputs": [
    {
     "data": {
      "text/plain": [
       "1257"
      ]
     },
     "execution_count": 56,
     "metadata": {},
     "output_type": "execute_result"
    }
   ],
   "source": [
    "len(df1)"
   ]
  },
  {
   "cell_type": "code",
   "execution_count": 61,
   "id": "eff63e5d",
   "metadata": {},
   "outputs": [],
   "source": [
    "df3 = df1.tolist()\n",
    "df3.extend(lst_output)"
   ]
  },
  {
   "cell_type": "code",
   "execution_count": 65,
   "id": "0c1c2c00",
   "metadata": {},
   "outputs": [
    {
     "data": {
      "text/plain": [
       "[<matplotlib.lines.Line2D at 0x29068fe50>]"
      ]
     },
     "execution_count": 65,
     "metadata": {},
     "output_type": "execute_result"
    },
    {
     "data": {
      "image/png": "[encoded data removed]",
      "text/plain": [
       "<Figure size 640x480 with 1 Axes>"
      ]
     },
     "metadata": {},
     "output_type": "display_data"
    }
   ],
   "source": [
    "plt.plot(day_new, scaler.inverse_transform(df1[1157:]))\n",
    "plt.plot(day_pred, scaler.inverse_transform(np.array(lst_output).reshape(-1, 1)))\n"
   ]
  },
  {
   "cell_type": "code",
   "execution_count": null,
   "id": "ddc254a7",
   "metadata": {},
   "outputs": [],
   "source": []
  }
 ],
 "metadata": {
  "kernelspec": {
   "display_name": "Python 3 (ipykernel)",
   "language": "python",
   "name": "python3"
  },
  "language_info": {
   "codemirror_mode": {
    "name": "ipython",
    "version": 3
   },
   "file_extension": ".py",
   "mimetype": "text/x-python",
   "name": "python",
   "nbconvert_exporter": "python",
   "pygments_lexer": "ipython3",
   "version": "3.11.4"
  }
 },
 "nbformat": 4,
 "nbformat_minor": 5
}
